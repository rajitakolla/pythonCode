{
  "nbformat": 4,
  "nbformat_minor": 0,
  "metadata": {
    "colab": {
      "name": "sortingRandomStrings.ipynb",
      "provenance": [],
      "collapsed_sections": [],
      "toc_visible": true,
      "include_colab_link": true
    },
    "kernelspec": {
      "name": "python3",
      "display_name": "Python 3"
    }
  },
  "cells": [
    {
      "cell_type": "markdown",
      "metadata": {
        "id": "view-in-github",
        "colab_type": "text"
      },
      "source": [
        "<a href=\"https://colab.research.google.com/github/rajitakolla/pythonCode/blob/master/sortingRandomStrings.ipynb\" target=\"_parent\"><img src=\"https://colab.research.google.com/assets/colab-badge.svg\" alt=\"Open In Colab\"/></a>"
      ]
    },
    {
      "cell_type": "code",
      "metadata": {
        "id": "FuitjaG5iCYy",
        "colab_type": "code",
        "outputId": "df920c7f-ec29-4c15-c85c-b8ec93f507e4",
        "colab": {
          "base_uri": "https://localhost:8080/",
          "height": 173
        }
      },
      "source": [
        "pip install -U pip"
      ],
      "execution_count": 0,
      "outputs": [
        {
          "output_type": "stream",
          "text": [
            "Collecting pip\n",
            "\u001b[?25l  Downloading https://files.pythonhosted.org/packages/54/0c/d01aa759fdc501a58f431eb594a17495f15b88da142ce14b5845662c13f3/pip-20.0.2-py2.py3-none-any.whl (1.4MB)\n",
            "\u001b[K     |████████████████████████████████| 1.4MB 2.8MB/s \n",
            "\u001b[?25hInstalling collected packages: pip\n",
            "  Found existing installation: pip 19.3.1\n",
            "    Uninstalling pip-19.3.1:\n",
            "      Successfully uninstalled pip-19.3.1\n",
            "Successfully installed pip-20.0.2\n"
          ],
          "name": "stdout"
        }
      ]
    },
    {
      "cell_type": "code",
      "metadata": {
        "id": "F7YeyrO2Y0i1",
        "colab_type": "code",
        "outputId": "916a0c12-22a3-4258-aeff-2ea9e80e7886",
        "colab": {
          "base_uri": "https://localhost:8080/",
          "height": 85
        }
      },
      "source": [
        "pip install -U rstr"
      ],
      "execution_count": 0,
      "outputs": [
        {
          "output_type": "stream",
          "text": [
            "Collecting rstr\n",
            "  Downloading rstr-2.2.6-py2.py3-none-any.whl (18 kB)\n",
            "Installing collected packages: rstr\n",
            "Successfully installed rstr-2.2.6\n"
          ],
          "name": "stdout"
        }
      ]
    },
    {
      "cell_type": "code",
      "metadata": {
        "id": "UU0TfvESZtHf",
        "colab_type": "code",
        "outputId": "55845592-5012-45c3-8ec1-80c0246717de",
        "colab": {
          "base_uri": "https://localhost:8080/",
          "height": 1000
        }
      },
      "source": [
        "import rstr\n",
        "import matplotlib.pyplot as plt\n",
        "\n",
        "def generate_distinct_strings_with_special_characters(len,p):\n",
        "    strings_list = []\n",
        "    for i in range(len): \n",
        "      strings_list.append(rstr.xeger(r'[a-z,A-Z,0-9,!,@,$,%,^,&,*,<,>,?]{1,9}'))\n",
        "    print(\"\\nActual String set  : \"+str(p+1))\n",
        "    print(strings_list)\n",
        "    return strings_list\n",
        "    pass\n",
        "\n",
        "def partition(ip, start, end):\n",
        "    temp = start-1\n",
        "    #set last element as pivot\n",
        "    pivot = ip[end]\n",
        "    for i in range (start, end):\n",
        "        if ip[i]<=pivot:\n",
        "            temp+=1\n",
        "            ip[temp],ip[i] = ip[i],ip[temp]\n",
        "    ip[temp+1],ip[end] = ip[end],ip[temp+1]\n",
        "    return temp+1\n",
        "    pass\n",
        "\n",
        "\n",
        "def quicksort(ip, start, end):\n",
        "    if start<end:\n",
        "        pivot_index = partition(ip, start, end)\n",
        "        quicksort(ip,start,pivot_index-1)\n",
        "        quicksort(ip, pivot_index + 1, end)\n",
        "    pass\n",
        "\n",
        "\n",
        "def build_scatter_plot(ip):\n",
        "  x_cor = [i for i in range(len(ip))]\n",
        "  y_cor = [len(i) for i in ip]\n",
        "  print(\"\\n\\n\")\n",
        "  plt.scatter(x_cor,y_cor)\n",
        "  pass\n",
        "\n",
        "def driverPrg():\n",
        "  #input the number of test cases\n",
        "  print(\"Enter the Number Of Test Cases\")\n",
        "  noOfTestCases = int(input())\n",
        "  numberOfStrings = []\n",
        "  print(\"Enter the Number Strings for \"+ str(noOfTestCases) +\" Test Cases\")\n",
        "  for i in range(noOfTestCases):\n",
        "        strings_ip = []\n",
        "        #input the number of Strings\n",
        "        numberOfStrings.append(int(input()))\n",
        "        strings_ip = generate_distinct_strings_with_special_characters(numberOfStrings[i],i)\n",
        "        quicksort(strings_ip,0,numberOfStrings[i]-1)   \n",
        "        print(\"\\nSorted String set : \"+str(i+1))\n",
        "        print(strings_ip)  \n",
        "        build_scatter_plot(strings_ip)\n",
        "        plt.show(block=False)\n",
        "  pass\n",
        "\n",
        "\n",
        "driverPrg()"
      ],
      "execution_count": 0,
      "outputs": [
        {
          "output_type": "stream",
          "text": [
            "Enter the Number Of Test Cases\n",
            "40\n",
            "Enter the Number Strings for 40 Test Cases\n",
            "1\n",
            "\n",
            "Actual String set  : 1\n",
            "[',Ir,,']\n",
            "\n",
            "Sorted String set : 1\n",
            "[',Ir,,']\n",
            "\n",
            "\n",
            "\n"
          ],
          "name": "stdout"
        },
        {
          "output_type": "display_data",
          "data": {
            "image/png": "[encoded data removed]",
            "text/plain": [
              "<Figure size 432x288 with 1 Axes>"
            ]
          },
          "metadata": {
            "tags": []
          }
        },
        {
          "output_type": "stream",
          "text": [
            "2\n",
            "\n",
            "Actual String set  : 2\n",
            "['BAhsQI,Q', 'K,mttwq']\n",
            "\n",
            "Sorted String set : 2\n",
            "['BAhsQI,Q', 'K,mttwq']\n",
            "\n",
            "\n",
            "\n"
          ],
          "name": "stdout"
        },
        {
          "output_type": "display_data",
          "data": {
            "image/png": "[encoded data removed]",
            "text/plain": [
              "<Figure size 432x288 with 1 Axes>"
            ]
          },
          "metadata": {
            "tags": []
          }
        },
        {
          "output_type": "stream",
          "text": [
            "2\n",
            "\n",
            "Actual String set  : 3\n",
            "[',tgy7V', 'auiSWf']\n",
            "\n",
            "Sorted String set : 3\n",
            "[',tgy7V', 'auiSWf']\n",
            "\n",
            "\n",
            "\n"
          ],
          "name": "stdout"
        },
        {
          "output_type": "display_data",
          "data": {
            "image/png": "[encoded data removed]",
            "text/plain": [
              "<Figure size 432x288 with 1 Axes>"
            ]
          },
          "metadata": {
            "tags": []
          }
        },
        {
          "output_type": "stream",
          "text": [
            "\n"
          ],
          "name": "stdout"
        },
        {
          "output_type": "error",
          "ename": "ValueError",
          "evalue": "ignored",
          "traceback": [
            "\u001b[0;31m---------------------------------------------------------------------------\u001b[0m",
            "\u001b[0;31mValueError\u001b[0m                                Traceback (most recent call last)",
            "\u001b[0;32m<ipython-input-49-5d1df1f5e5ac>\u001b[0m in \u001b[0;36m<module>\u001b[0;34m()\u001b[0m\n\u001b[1;32m     58\u001b[0m \u001b[0;34m\u001b[0m\u001b[0m\n\u001b[1;32m     59\u001b[0m \u001b[0;34m\u001b[0m\u001b[0m\n\u001b[0;32m---> 60\u001b[0;31m \u001b[0mdriverPrg\u001b[0m\u001b[0;34m(\u001b[0m\u001b[0;34m)\u001b[0m\u001b[0;34m\u001b[0m\u001b[0;34m\u001b[0m\u001b[0m\n\u001b[0m",
            "\u001b[0;32m<ipython-input-49-5d1df1f5e5ac>\u001b[0m in \u001b[0;36mdriverPrg\u001b[0;34m()\u001b[0m\n\u001b[1;32m     48\u001b[0m         \u001b[0mstrings_ip\u001b[0m \u001b[0;34m=\u001b[0m \u001b[0;34m[\u001b[0m\u001b[0;34m]\u001b[0m\u001b[0;34m\u001b[0m\u001b[0;34m\u001b[0m\u001b[0m\n\u001b[1;32m     49\u001b[0m         \u001b[0;31m#input the number of Strings\u001b[0m\u001b[0;34m\u001b[0m\u001b[0;34m\u001b[0m\u001b[0;34m\u001b[0m\u001b[0m\n\u001b[0;32m---> 50\u001b[0;31m         \u001b[0mnumberOfStrings\u001b[0m\u001b[0;34m.\u001b[0m\u001b[0mappend\u001b[0m\u001b[0;34m(\u001b[0m\u001b[0mint\u001b[0m\u001b[0;34m(\u001b[0m\u001b[0minput\u001b[0m\u001b[0;34m(\u001b[0m\u001b[0;34m)\u001b[0m\u001b[0;34m)\u001b[0m\u001b[0;34m)\u001b[0m\u001b[0;34m\u001b[0m\u001b[0;34m\u001b[0m\u001b[0m\n\u001b[0m\u001b[1;32m     51\u001b[0m         \u001b[0mstrings_ip\u001b[0m \u001b[0;34m=\u001b[0m \u001b[0mgenerate_distinct_strings_with_special_characters\u001b[0m\u001b[0;34m(\u001b[0m\u001b[0mnumberOfStrings\u001b[0m\u001b[0;34m[\u001b[0m\u001b[0mi\u001b[0m\u001b[0;34m]\u001b[0m\u001b[0;34m,\u001b[0m\u001b[0mi\u001b[0m\u001b[0;34m)\u001b[0m\u001b[0;34m\u001b[0m\u001b[0;34m\u001b[0m\u001b[0m\n\u001b[1;32m     52\u001b[0m         \u001b[0mquicksort\u001b[0m\u001b[0;34m(\u001b[0m\u001b[0mstrings_ip\u001b[0m\u001b[0;34m,\u001b[0m\u001b[0;36m0\u001b[0m\u001b[0;34m,\u001b[0m\u001b[0mnumberOfStrings\u001b[0m\u001b[0;34m[\u001b[0m\u001b[0mi\u001b[0m\u001b[0;34m]\u001b[0m\u001b[0;34m-\u001b[0m\u001b[0;36m1\u001b[0m\u001b[0;34m)\u001b[0m\u001b[0;34m\u001b[0m\u001b[0;34m\u001b[0m\u001b[0m\n",
            "\u001b[0;31mValueError\u001b[0m: invalid literal for int() with base 10: ''"
          ]
        }
      ]
    }
  ]
}