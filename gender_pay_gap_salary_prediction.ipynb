{
  "nbformat": 4,
  "nbformat_minor": 0,
  "metadata": {
    "colab": {
      "name": "gender-pay-gap-salary-prediction.ipynb",
      "provenance": [],
      "collapsed_sections": [],
      "authorship_tag": "ABX9TyMKaY2pIMPiVpdk9eM3RYx/",
      "include_colab_link": true
    },
    "kernelspec": {
      "name": "python3",
      "display_name": "Python 3"
    }
  },
  "cells": [
    {
      "cell_type": "markdown",
      "metadata": {
        "id": "view-in-github",
        "colab_type": "text"
      },
      "source": [
        "<a href=\"https://colab.research.google.com/github/rajitakolla/pythonCode/blob/master/gender_pay_gap_salary_prediction.ipynb\" target=\"_parent\"><img src=\"https://colab.research.google.com/assets/colab-badge.svg\" alt=\"Open In Colab\"/></a>"
      ]
    },
    {
      "cell_type": "code",
      "metadata": {
        "id": "Ea8RiFPQEWsx",
        "colab_type": "code",
        "outputId": "b2bd4509-02d7-41a2-819a-0c9ec9486fb9",
        "colab": {
          "base_uri": "https://localhost:8080/",
          "height": 33
        }
      },
      "source": [
        "pip install pip"
      ],
      "execution_count": 2,
      "outputs": [
        {
          "output_type": "stream",
          "text": [
            "Requirement already satisfied: pip in /usr/local/lib/python3.6/dist-packages (19.3.1)\n"
          ],
          "name": "stdout"
        }
      ]
    },
    {
      "cell_type": "code",
      "metadata": {
        "id": "boTjYc7HE-tk",
        "colab_type": "code",
        "outputId": "8d0a612f-b654-49ef-bfc9-3ddcd4923810",
        "colab": {
          "base_uri": "https://localhost:8080/",
          "height": 98
        }
      },
      "source": [
        "pip install pandas"
      ],
      "execution_count": 3,
      "outputs": [
        {
          "output_type": "stream",
          "text": [
            "Requirement already satisfied: pandas in /usr/local/lib/python3.6/dist-packages (0.25.3)\n",
            "Requirement already satisfied: python-dateutil>=2.6.1 in /usr/local/lib/python3.6/dist-packages (from pandas) (2.6.1)\n",
            "Requirement already satisfied: numpy>=1.13.3 in /usr/local/lib/python3.6/dist-packages (from pandas) (1.17.5)\n",
            "Requirement already satisfied: pytz>=2017.2 in /usr/local/lib/python3.6/dist-packages (from pandas) (2018.9)\n",
            "Requirement already satisfied: six>=1.5 in /usr/local/lib/python3.6/dist-packages (from python-dateutil>=2.6.1->pandas) (1.12.0)\n"
          ],
          "name": "stdout"
        }
      ]
    },
    {
      "cell_type": "code",
      "metadata": {
        "id": "jvHBm43jFExX",
        "colab_type": "code",
        "outputId": "2cd02546-7d90-42ed-f2ee-593ed7055071",
        "colab": {
          "base_uri": "https://localhost:8080/",
          "height": 732
        }
      },
      "source": [
        "pip install datascience"
      ],
      "execution_count": 4,
      "outputs": [
        {
          "output_type": "stream",
          "text": [
            "Requirement already satisfied: datascience in /usr/local/lib/python3.6/dist-packages (0.10.6)\n",
            "Requirement already satisfied: setuptools in /usr/local/lib/python3.6/dist-packages (from datascience) (45.2.0)\n",
            "Requirement already satisfied: pytest in /usr/local/lib/python3.6/dist-packages (from datascience) (3.6.4)\n",
            "Requirement already satisfied: coverage==3.7.1 in /usr/local/lib/python3.6/dist-packages (from datascience) (3.7.1)\n",
            "Requirement already satisfied: sphinx in /usr/local/lib/python3.6/dist-packages (from datascience) (1.8.5)\n",
            "Requirement already satisfied: coveralls==0.5 in /usr/local/lib/python3.6/dist-packages (from datascience) (0.5)\n",
            "Collecting folium==0.2.1\n",
            "\u001b[?25l  Downloading https://files.pythonhosted.org/packages/72/dd/75ced7437bfa7cb9a88b96ee0177953062803c3b4cde411a97d98c35adaf/folium-0.2.1.tar.gz (69kB)\n",
            "\u001b[K     |████████████████████████████████| 71kB 2.2MB/s \n",
            "\u001b[?25hRequirement already satisfied: atomicwrites>=1.0 in /usr/local/lib/python3.6/dist-packages (from pytest->datascience) (1.3.0)\n",
            "Requirement already satisfied: more-itertools>=4.0.0 in /usr/local/lib/python3.6/dist-packages (from pytest->datascience) (8.2.0)\n",
            "Requirement already satisfied: pluggy<0.8,>=0.5 in /usr/local/lib/python3.6/dist-packages (from pytest->datascience) (0.7.1)\n",
            "Requirement already satisfied: six>=1.10.0 in /usr/local/lib/python3.6/dist-packages (from pytest->datascience) (1.12.0)\n",
            "Requirement already satisfied: attrs>=17.4.0 in /usr/local/lib/python3.6/dist-packages (from pytest->datascience) (19.3.0)\n",
            "Requirement already satisfied: py>=1.5.0 in /usr/local/lib/python3.6/dist-packages (from pytest->datascience) (1.8.1)\n",
            "Requirement already satisfied: imagesize in /usr/local/lib/python3.6/dist-packages (from sphinx->datascience) (1.2.0)\n",
            "Requirement already satisfied: alabaster<0.8,>=0.7 in /usr/local/lib/python3.6/dist-packages (from sphinx->datascience) (0.7.12)\n",
            "Requirement already satisfied: docutils>=0.11 in /usr/local/lib/python3.6/dist-packages (from sphinx->datascience) (0.15.2)\n",
            "Requirement already satisfied: Pygments>=2.0 in /usr/local/lib/python3.6/dist-packages (from sphinx->datascience) (2.1.3)\n",
            "Requirement already satisfied: packaging in /usr/local/lib/python3.6/dist-packages (from sphinx->datascience) (20.1)\n",
            "Requirement already satisfied: sphinxcontrib-websupport in /usr/local/lib/python3.6/dist-packages (from sphinx->datascience) (1.2.0)\n",
            "Requirement already satisfied: snowballstemmer>=1.1 in /usr/local/lib/python3.6/dist-packages (from sphinx->datascience) (2.0.0)\n",
            "Requirement already satisfied: babel!=2.0,>=1.3 in /usr/local/lib/python3.6/dist-packages (from sphinx->datascience) (2.8.0)\n",
            "Requirement already satisfied: Jinja2>=2.3 in /usr/local/lib/python3.6/dist-packages (from sphinx->datascience) (2.11.1)\n",
            "Requirement already satisfied: requests>=2.0.0 in /usr/local/lib/python3.6/dist-packages (from sphinx->datascience) (2.21.0)\n",
            "Requirement already satisfied: docopt>=0.6.1 in /usr/local/lib/python3.6/dist-packages (from coveralls==0.5->datascience) (0.6.2)\n",
            "Requirement already satisfied: PyYAML>=3.10 in /usr/local/lib/python3.6/dist-packages (from coveralls==0.5->datascience) (3.13)\n",
            "Requirement already satisfied: pyparsing>=2.0.2 in /usr/local/lib/python3.6/dist-packages (from packaging->sphinx->datascience) (2.4.6)\n",
            "Requirement already satisfied: pytz>=2015.7 in /usr/local/lib/python3.6/dist-packages (from babel!=2.0,>=1.3->sphinx->datascience) (2018.9)\n",
            "Requirement already satisfied: MarkupSafe>=0.23 in /usr/local/lib/python3.6/dist-packages (from Jinja2>=2.3->sphinx->datascience) (1.1.1)\n",
            "Requirement already satisfied: chardet<3.1.0,>=3.0.2 in /usr/local/lib/python3.6/dist-packages (from requests>=2.0.0->sphinx->datascience) (3.0.4)\n",
            "Requirement already satisfied: certifi>=2017.4.17 in /usr/local/lib/python3.6/dist-packages (from requests>=2.0.0->sphinx->datascience) (2019.11.28)\n",
            "Requirement already satisfied: idna<2.9,>=2.5 in /usr/local/lib/python3.6/dist-packages (from requests>=2.0.0->sphinx->datascience) (2.8)\n",
            "Requirement already satisfied: urllib3<1.25,>=1.21.1 in /usr/local/lib/python3.6/dist-packages (from requests>=2.0.0->sphinx->datascience) (1.24.3)\n",
            "Building wheels for collected packages: folium\n",
            "  Building wheel for folium (setup.py) ... \u001b[?25l\u001b[?25hdone\n",
            "  Created wheel for folium: filename=folium-0.2.1-cp36-none-any.whl size=79979 sha256=d7e1a62ec2376c9d2aabd53906bb5cfd9cd5158da2bf545c47cdb82ecab36600\n",
            "  Stored in directory: /root/.cache/pip/wheels/b8/09/f0/52d2ef419c2aaf4fb149f92a33e0008bdce7ae816f0dd8f0c5\n",
            "Successfully built folium\n",
            "Installing collected packages: folium\n",
            "  Found existing installation: folium 0.8.3\n",
            "    Uninstalling folium-0.8.3:\n",
            "      Successfully uninstalled folium-0.8.3\n",
            "Successfully installed folium-0.2.1\n"
          ],
          "name": "stdout"
        }
      ]
    },
    {
      "cell_type": "code",
      "metadata": {
        "id": "d5tJWJoqFJkT",
        "colab_type": "code",
        "outputId": "2275866c-fa58-4c7b-b510-77253ccb01c4",
        "colab": {
          "base_uri": "https://localhost:8080/",
          "height": 265
        }
      },
      "source": [
        "pip install datatable"
      ],
      "execution_count": 5,
      "outputs": [
        {
          "output_type": "stream",
          "text": [
            "Collecting datatable\n",
            "\u001b[?25l  Downloading https://files.pythonhosted.org/packages/3a/e6/55c464201cdfe62e5cb39744d1d04f9d6cf369053edf28f3e7971ec80e63/datatable-0.10.1-cp36-cp36m-manylinux2010_x86_64.whl (59.9MB)\n",
            "\u001b[K     |████████████████████████████████| 59.9MB 63kB/s \n",
            "\u001b[?25hCollecting typesentry>=0.2.6\n",
            "  Downloading https://files.pythonhosted.org/packages/0f/37/3757249f05aac8a08d9742f9a35c17ab6895eb916b83bbf3a23eae6842b2/typesentry-0.2.7-py2.py3-none-any.whl\n",
            "Collecting blessed\n",
            "\u001b[?25l  Downloading https://files.pythonhosted.org/packages/18/e1/72c107cebd9085c288998295ebeaad1036aa893755168b1284c94bd722c9/blessed-1.17.2-py2.py3-none-any.whl (76kB)\n",
            "\u001b[K     |████████████████████████████████| 81kB 9.0MB/s \n",
            "\u001b[?25hCollecting colorama>=0.3\n",
            "  Downloading https://files.pythonhosted.org/packages/c9/dc/45cdef1b4d119eb96316b3117e6d5708a08029992b2fee2c143c7a0a5cc5/colorama-0.4.3-py2.py3-none-any.whl\n",
            "Requirement already satisfied: wcwidth>=0.1.4 in /usr/local/lib/python3.6/dist-packages (from blessed->datatable) (0.1.8)\n",
            "Requirement already satisfied: six>=1.9.0 in /usr/local/lib/python3.6/dist-packages (from blessed->datatable) (1.12.0)\n",
            "Installing collected packages: colorama, typesentry, blessed, datatable\n",
            "Successfully installed blessed-1.17.2 colorama-0.4.3 datatable-0.10.1 typesentry-0.2.7\n"
          ],
          "name": "stdout"
        }
      ]
    },
    {
      "cell_type": "markdown",
      "metadata": {
        "id": "c1ZM9qjcK_F6",
        "colab_type": "text"
      },
      "source": [
        "This assignment is developed based on the three datasets collected from Kaggle.com at: https://www.kaggle.com/\n",
        "theoviel/kagglers-gender-pay-gap-salary-prediction. You may refer the website for explanation, cleaning, visualization, and basic analysis of the datasets. The three datasets: surveySchema.csv, freeFormResponses.csv, multipleChoiceResponses.csv."
      ]
    },
    {
      "cell_type": "markdown",
      "metadata": {
        "id": "H4nYEIptLDog",
        "colab_type": "text"
      },
      "source": [
        "Complete the following tasks:\n",
        "1. Calculate the median income of male employees and the median income of female employee in the population.\n",
        "(look the set of all employees in the datasets as the population). \n",
        "2. Drawanoverlaidgraphtoshowthehistogramsoftheincomesoffemaleandmaleemployeesinthepopulation. (Youcreateonehistogramformale, andanotherhistogramforfemale, butthetwohistogramswillbedisplayed in the same graph with diﬀerent colors)\n",
        "\n",
        "3. Use the random sampling, empirical distribution, sample comparison, bootstrap, hypothesis testing as well as A/B testing we discussed in the class to analyze the income gap between female and male employees.\n",
        "•Select a sample from the population. make sure your sample include 500 employees selected from the population, and consider how to ensure the sampling strategy is fair since the datasets include overwhelmed male employees than female employees. \n",
        "• Deﬁne test statistic, null hypothesis and alternative hypothesis. \n",
        "• Draw the income histogram for the sample, calculate the median income of the sample, and draw a red dot and a yellow dot of the female median income and male median income of the population, respectively, in the histogram. \n",
        "• Draw the histogram of the test statistic of the sample, and draw a red dot to show the corresponding test statistic of the population (e.g. the diﬀerence of the median incomes between female and male employees) in the diagram. \n",
        "• Write a procedure to use bootstrap to produce at least 5000 samples. \n",
        "• Draw the histogram of the test statistic of the bootstrap samples. \n",
        "• Deﬁne conﬁdence interval and P-value to validate the hypothesis you deﬁned. "
      ]
    },
    {
      "cell_type": "code",
      "metadata": {
        "id": "pHa2Fed1LHfo",
        "colab_type": "code",
        "outputId": "b1e50b88-a470-470c-d10a-9a4ef4a46067",
        "colab": {
          "base_uri": "https://localhost:8080/",
          "height": 1000
        }
      },
      "source": [
        "import datatable as dt\n",
        "import datascience as ds\n",
        "import pandas as pd\n",
        "import numpy as np\n",
        "import matplotlib as mat\n",
        "%matplotlib inline\n",
        "\n",
        "sample_size = 250\n",
        "total_sample_size = 500\n",
        "boot_strap_sample = 5000\n",
        "\n",
        "def frame_dict(values):\n",
        "  keys = []\n",
        "  for i in values:\n",
        "    if(i==\"0\"):\n",
        "      keys.append(0)\n",
        "    elif(i.rfind(\"-\")!=-1):\n",
        "      value = i.replace(\",\",\"\").split(\"-\")\n",
        "      keys.append((int(value[0]+\"000\") + int(value[1]))/2)\n",
        "    elif(i.rfind(\"+\")!=-1):\n",
        "      keys.append(int(i.replace(\",\",\"\").replace(\"+\",\"\")))\n",
        "    else:\n",
        "      keys.append(0)  \n",
        "  return (dict(zip(values,keys)))\n",
        "  pass\n",
        "\n",
        "\n",
        "def create_an_array():\n",
        "  return ds.make_array()\n",
        "  pass\n",
        "\n",
        "def find_the_median(tableData, name, funct, *values):\n",
        "  return tableData.select(*values).group(name,funct)\n",
        "  pass\n",
        "\n",
        "\n",
        "#FIND THE AVERAGE INCOME OF MALE AND FEMALE EMPLOYEES\n",
        "def execute_q1():\n",
        "  dataDF = pd.read_csv(\"/content/sample_data/multipleChoiceResponses.csv\")\n",
        "  #elimiate level 0 row\n",
        "  dataDF = pd.DataFrame(dataDF.drop(0))\n",
        "  #extract only required columns\n",
        "  genderSal = dataDF[[\"Q1\",\"Q9\"]].rename(columns={\"Q9\":\"Salary\",\"Q1\":\"Gender\"}).fillna(\"0\").dropna(how=\"all\")\n",
        "  listOfValues = genderSal[\"Salary\"].unique()\n",
        "  dict_mappers = frame_dict(listOfValues)\n",
        "  genderSal[\"SAL\"] = genderSal[\"Salary\"].apply(lambda x:dict_mappers[x])\n",
        "  tbData = ds.Table.from_df(genderSal).where(\"Salary\",ds.are.containing(\"-\") or ds.are.containing(\"+\")).where(\"Gender\",ds.are.containing(\"ale\"))\n",
        "  find_the_median(tbData,\"Gender\",np.median,\"Gender\",\"SAL\").show()\n",
        "  return tbData.select(\"Gender\",\"Salary\",\"SAL\")\n",
        "  pass\n",
        "\n",
        "\n",
        "\n",
        "#PLOT THE MALE AND FEMALE EMPLOYEES INCOME\n",
        "def execute_q2(maleDF,femaleDF):\n",
        "  mat.pyplot.title(\"Overlaid Histogram representing Male and Female Employees\")\n",
        "  line_up = mat.pyplot.hist(maleDF[\"SAL\"],bins=25,alpha= 0.5,density=None,label=\"MALE\",color=\"blue\")\n",
        "  line_down = mat.pyplot.hist(femaleDF[\"SAL\"],bins=25,alpha=0.5,density=None,label=\"FEMALE\",color=\"yellow\")\n",
        "  mat.pyplot.legend(loc=10,bbox_to_anchor=(.87,.85))\n",
        "  mat.pyplot.show(block=False)\n",
        "  pass \n",
        "\n",
        "\n",
        "# CONSIDER EQUAL PARTITIONS OF MALE AND FEMALE EMPLOYEES\n",
        "def sampling_data(maleDF,femaleDF):\n",
        "  maleIncDF = maleDF.sample(sample_size)\n",
        "  femaleIncDF = femaleDF.sample(sample_size)\n",
        "  samplingTable = maleIncDF.append(femaleIncDF)\n",
        "  return samplingTable\n",
        "  pass\n",
        "\n",
        "#plot income median graph\n",
        "def plot_graph_income_hist(maleDF,femaleDF):\n",
        "  mat.pyplot.title(\"Income Histogram\")\n",
        "  mat.pyplot.hist(maleDF.append(femaleDF)[\"SAL\"],bins=25,label=\"Income\",density=None,color=\"blue\",rwidth=5)\n",
        "  mat.pyplot.scatter(35000,0,color=\"yellow\",s=50,marker='o',edgecolors='black')\n",
        "  mat.pyplot.scatter(25000,0,color=\"red\",s=50,marker='o',edgecolors='black')\n",
        "  mat.pyplot.legend(loc=10,bbox_to_anchor=(.88,.85))\n",
        "  mat.pyplot.show(block=False)\n",
        "  pass\n",
        "\n",
        "\n",
        "\n",
        "def testing_sampling(maleDF,femaleDF):\n",
        "  #fetch an empty array\n",
        "  res_array = create_an_array()\n",
        "  for i in np.arange(total_sample_size):\n",
        "    male_female_sample= sampling_data(maleDF,femaleDF)\n",
        "    male_female_sample_table = ds.Table.from_df(male_female_sample)\n",
        "    avg_sal_df = find_the_median(male_female_sample_table,\"Gender\",np.average,\"Gender\",\"SAL\").to_df()\n",
        "    res_array = np.append(res_array, avg_sal_df.iloc[1][\"SAL average\"]-avg_sal_df.iloc[0][\"SAL average\"])\n",
        "  # print(res_array)\n",
        "  final_Male_female_df = maleDF.append(femaleDF)\n",
        "  mean_df = find_the_median(ds.Table.from_df(final_Male_female_df),\"Gender\",np.average,\"Gender\",\"SAL\").to_df()\n",
        "  total_res = mean_df.iloc[1][\"SAL average\"]-mean_df.iloc[0][\"SAL average\"]\n",
        "  mat.pyplot.title(\"Avg of Sal for 500 samples\")\n",
        "  mat.pyplot.hist(res_array,bins=25,alpha=0.5,color='yellow',label=\"Income\")\n",
        "  mat.pyplot.scatter(total_res,0,s=50,color='red',edgecolors=\"black\",label='Average')\n",
        "  mat.pyplot.legend(loc=10,bbox_to_anchor=(.88,.85))\n",
        "  mat.pyplot.show(block=False)\n",
        "  pass\n",
        "\n",
        "#boot strap method\n",
        "def boot_strap(maleDF,femaleDF):\n",
        "  res_array = create_an_array()\n",
        "  for i in np.arange(boot_strap_sample):\n",
        "    male_female_sample= sampling_data(maleDF,femaleDF)\n",
        "    male_female_sampleDF = male_female_sample.sample()\n",
        "    male_female_sample_table = ds.Table.from_df(male_female_sampleDF)\n",
        "    mean_df = find_the_median(ds.Table.from_df(male_female_sample),\"Gender\",np.average,\"Gender\",\"SAL\").to_df()\n",
        "    res_array = np.append(res_array,mean_df.iloc[1]['SAL average']-mean_df.iloc[0]['SAL average'])\n",
        "  mat.pyplot.title(\"Boot Strap\")\n",
        "  mat.pyplot.hist(res_array,bins=25,alpha=0.5,color=\"yellow\",histtype='bar',orientation='vertical',label=\"Average\")\n",
        "  mat.pyplot.legend(loc=10,bbox_to_anchor=(.88,.85))\n",
        "  mat.pyplot.show(block=False)\n",
        "  pass\n",
        "\n",
        "def execute_q3(maleDF,femaleDF):\n",
        "  # Q1\n",
        "  sampling_values = sampling_data(maleDF,femaleDF)\n",
        "  print(sampling_values)\n",
        "  # Q3\n",
        "  plot_graph_income_hist(maleDF,femaleDF)\n",
        "  # Q4\n",
        "  testing_sampling(maleDF,femaleDF)\n",
        "  # Q6\n",
        "  boot_strap(maleDF,femaleDF)\n",
        "  pass\n",
        "\n",
        "\n",
        "def executor():\n",
        "  median_sal_of_male_and_female_emp = execute_q1()\n",
        "  maleDF = median_sal_of_male_and_female_emp.where(\"Gender\",ds.are.containing(\"Male\")).to_df()\n",
        "  femaleDF = median_sal_of_male_and_female_emp.where(\"Gender\",ds.are.containing(\"Female\")).to_df()\n",
        "  execute_q2(maleDF,femaleDF)\n",
        "  execute_q3(maleDF,femaleDF)\n",
        "  pass\n",
        "\n",
        "executor()\n",
        "\n"
      ],
      "execution_count": 192,
      "outputs": [
        {
          "output_type": "stream",
          "text": [
            "/usr/local/lib/python3.6/dist-packages/IPython/core/interactiveshell.py:2882: DtypeWarning: Columns (0,2,8,10,21,23,24,25,26,27,28,44,56,64,83,85,87,107,109,123,125,150,157,172,174,194,210,218,219,223,246,249,262,264,276,277,278,279,280,281,282,283,284,285,286,287,288,289,290,304,306,325,326,329,341,368,371,384,385,389,390,391,393,394) have mixed types. Specify dtype option on import or set low_memory=False.\n",
            "  exec(code_obj, self.user_global_ns, self.user_ns)\n"
          ],
          "name": "stderr"
        },
        {
          "output_type": "display_data",
          "data": {
            "text/html": [
              "<table border=\"1\" class=\"dataframe\">\n",
              "    <thead>\n",
              "        <tr>\n",
              "            <th>Gender</th> <th>SAL median</th>\n",
              "        </tr>\n",
              "    </thead>\n",
              "    <tbody>\n",
              "        <tr>\n",
              "            <td>Female</td> <td>25000     </td>\n",
              "        </tr>\n",
              "        <tr>\n",
              "            <td>Male  </td> <td>35000     </td>\n",
              "        </tr>\n",
              "    </tbody>\n",
              "</table>"
            ],
            "text/plain": [
              "<IPython.core.display.HTML object>"
            ]
          },
          "metadata": {
            "tags": []
          }
        },
        {
          "output_type": "display_data",
          "data": {
            "image/png": "[encoded data removed]",
            "text/plain": [
              "<Figure size 432x288 with 1 Axes>"
            ]
          },
          "metadata": {
            "tags": []
          }
        },
        {
          "output_type": "stream",
          "text": [
            "      Gender       Salary       SAL\n",
            "5775    Male  100-125,000  112500.0\n",
            "4264    Male     0-10,000    5000.0\n",
            "5402    Male     0-10,000    5000.0\n",
            "7787    Male    50-60,000   55000.0\n",
            "1549    Male  100-125,000  112500.0\n",
            "...      ...          ...       ...\n",
            "1353  Female     0-10,000    5000.0\n",
            "1110  Female    50-60,000   55000.0\n",
            "2260  Female    10-20,000   15000.0\n",
            "817   Female    50-60,000   55000.0\n",
            "282   Female    80-90,000   85000.0\n",
            "\n",
            "[500 rows x 3 columns]\n"
          ],
          "name": "stdout"
        },
        {
          "output_type": "display_data",
          "data": {
            "image/png": "[encoded data removed]",
            "text/plain": [
              "<Figure size 432x288 with 1 Axes>"
            ]
          },
          "metadata": {
            "tags": []
          }
        },
        {
          "output_type": "display_data",
          "data": {
            "image/png": "[encoded data removed]",
            "text/plain": [
              "<Figure size 432x288 with 1 Axes>"
            ]
          },
          "metadata": {
            "tags": []
          }
        },
        {
          "output_type": "display_data",
          "data": {
            "image/png": "[encoded data removed]",
            "text/plain": [
              "<Figure size 432x288 with 1 Axes>"
            ]
          },
          "metadata": {
            "tags": []
          }
        }
      ]
    }
  ]
}