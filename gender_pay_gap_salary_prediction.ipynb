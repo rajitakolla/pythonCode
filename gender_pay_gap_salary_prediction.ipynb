{
  "nbformat": 4,
  "nbformat_minor": 0,
  "metadata": {
    "colab": {
      "name": "gender-pay-gap-salary-prediction.ipynb",
      "provenance": [],
      "collapsed_sections": [],
      "authorship_tag": "ABX9TyPKEc1BeuYQlTNavgHcancr",
      "include_colab_link": true
    },
    "kernelspec": {
      "name": "python3",
      "display_name": "Python 3"
    }
  },
  "cells": [
    {
      "cell_type": "markdown",
      "metadata": {
        "id": "view-in-github",
        "colab_type": "text"
      },
      "source": [
        "<a href=\"https://colab.research.google.com/github/rajitakolla/pythonCode/blob/master/gender_pay_gap_salary_prediction.ipynb\" target=\"_parent\"><img src=\"https://colab.research.google.com/assets/colab-badge.svg\" alt=\"Open In Colab\"/></a>"
      ]
    },
    {
      "cell_type": "markdown",
      "metadata": {
        "id": "c1ZM9qjcK_F6",
        "colab_type": "text"
      },
      "source": [
        "This assignment is developed based on the three datasets collected from Kaggle.com at: https://www.kaggle.com/\n",
        "theoviel/kagglers-gender-pay-gap-salary-prediction. You may refer the website for explanation, cleaning, visualization, and basic analysis of the datasets. The three datasets: surveySchema.csv, freeFormResponses.csv, multipleChoiceResponses.csv."
      ]
    },
    {
      "cell_type": "markdown",
      "metadata": {
        "id": "H4nYEIptLDog",
        "colab_type": "text"
      },
      "source": [
        "Complete the following tasks:\n",
        "1. Calculate the median income of male employees and the median income of female employee in the population.\n",
        "(look the set of all employees in the datasets as the population). \n",
        "2. Drawanoverlaidgraphtoshowthehistogramsoftheincomesoffemaleandmaleemployeesinthepopulation. (Youcreateonehistogramformale, andanotherhistogramforfemale, butthetwohistogramswillbedisplayed in the same graph with diﬀerent colors)\n",
        "\n",
        "3. Use the random sampling, empirical distribution, sample comparison, bootstrap, hypothesis testing as well as A/B testing we discussed in the class to analyze the income gap between female and male employees.\n",
        "•Select a sample from the population. make sure your sample include 500 employees selected from the population, and consider how to ensure the sampling strategy is fair since the datasets include overwhelmed male employees than female employees. \n",
        "• Deﬁne test statistic, null hypothesis and alternative hypothesis. \n",
        "• Draw the income histogram for the sample, calculate the median income of the sample, and draw a red dot and a yellow dot of the female median income and male median income of the population, respectively, in the histogram. \n",
        "• Draw the histogram of the test statistic of the sample, and draw a red dot to show the corresponding test statistic of the population (e.g. the diﬀerence of the median incomes between female and male employees) in the diagram. \n",
        "• Write a procedure to use bootstrap to produce at least 5000 samples. \n",
        "• Draw the histogram of the test statistic of the bootstrap samples. \n",
        "• Deﬁne conﬁdence interval and P-value to validate the hypothesis you deﬁned. "
      ]
    },
    {
      "cell_type": "code",
      "metadata": {
        "id": "pHa2Fed1LHfo",
        "colab_type": "code",
        "outputId": "4db672aa-954b-45b9-c22a-3d5b2b6b4a0a",
        "colab": {
          "base_uri": "https://localhost:8080/",
          "height": 1000
        }
      },
      "source": [
        "import datatable as dt\n",
        "import datascience as ds\n",
        "import pandas as pd\n",
        "import numpy as np\n",
        "import matplotlib as mat\n",
        "%matplotlib inline\n",
        "\n",
        "sample_size = 250\n",
        "total_sample_size = 500\n",
        "boot_strap_sample = 5000\n",
        "\n",
        "def frame_dict(values):\n",
        "  keys = []\n",
        "  for i in values:\n",
        "    if(i==\"0\"):\n",
        "      keys.append(0)\n",
        "    elif(i.rfind(\"-\")!=-1):\n",
        "      value = i.replace(\",\",\"\").split(\"-\")\n",
        "      keys.append((int(value[0]+\"000\") + int(value[1]))/2)\n",
        "    elif(i.rfind(\"+\")!=-1):\n",
        "      keys.append(int(i.replace(\",\",\"\").replace(\"+\",\"\")))\n",
        "    else:\n",
        "      keys.append(0)  \n",
        "  return (dict(zip(values,keys)))\n",
        "  pass\n",
        "\n",
        "\n",
        "def create_an_array():\n",
        "  return ds.make_array()\n",
        "  pass\n",
        "\n",
        "def find_the_median(tableData, name, funct, *values):\n",
        "  return tableData.select(*values).group(name,funct)\n",
        "  pass\n",
        "\n",
        "\n",
        "#FIND THE AVERAGE INCOME OF MALE AND FEMALE EMPLOYEES\n",
        "def execute_q1():\n",
        "  dataDF = pd.read_csv(\"/content/sample_data/multipleChoiceResponses.csv\",low_memory=False)\n",
        "  #elimiate level 0 row\n",
        "  dataDF = pd.DataFrame(dataDF.drop(0))\n",
        "  #extract only required columns\n",
        "  genderSal = dataDF[[\"Q1\",\"Q9\"]].rename(columns={\"Q9\":\"Salary\",\"Q1\":\"Gender\"}).fillna(\"0\").dropna(how=\"all\")\n",
        "  listOfValues = genderSal[\"Salary\"].unique()\n",
        "  dict_mappers = frame_dict(listOfValues)\n",
        "  genderSal[\"SAL\"] = genderSal[\"Salary\"].apply(lambda x:dict_mappers[x])\n",
        "  tbData = ds.Table.from_df(genderSal).where(\"Salary\",ds.are.containing(\"-\") or ds.are.containing(\"+\")).where(\"Gender\",ds.are.containing(\"ale\"))\n",
        "  find_the_median(tbData,\"Gender\",np.median,\"Gender\",\"SAL\").show()\n",
        "  return tbData.select(\"Gender\",\"Salary\",\"SAL\")\n",
        "  pass\n",
        "\n",
        "\n",
        "\n",
        "#PLOT THE MALE AND FEMALE EMPLOYEES INCOME\n",
        "def execute_q2(maleDF,femaleDF):\n",
        "  mat.pyplot.title(\"Overlaid Histogram representing Male and Female Employees\")\n",
        "  line_up = mat.pyplot.hist(maleDF[\"SAL\"],bins=25,alpha= 0.5,density=None,label=\"MALE\",color=\"blue\")\n",
        "  line_down = mat.pyplot.hist(femaleDF[\"SAL\"],bins=25,alpha=0.5,density=None,label=\"FEMALE\",color=\"yellow\")\n",
        "  mat.pyplot.legend(loc=10,bbox_to_anchor=(.87,.85))\n",
        "  mat.pyplot.show(block=False)\n",
        "  pass \n",
        "\n",
        "\n",
        "# CONSIDER EQUAL PARTITIONS OF MALE AND FEMALE EMPLOYEES\n",
        "def sampling_data(maleDF,femaleDF):\n",
        "  maleIncDF = maleDF.sample(sample_size)\n",
        "  femaleIncDF = femaleDF.sample(sample_size)\n",
        "  samplingTable = maleIncDF.append(femaleIncDF)\n",
        "  return samplingTable\n",
        "  pass\n",
        "\n",
        "#plot income median graph\n",
        "def plot_graph_income_hist(maleDF,femaleDF):\n",
        "  mat.pyplot.title(\"Income Histogram\")\n",
        "  mat.pyplot.hist(maleDF.append(femaleDF)[\"SAL\"],bins=25,label=\"Income\",density=None,color=\"blue\",rwidth=5)\n",
        "  mat.pyplot.scatter(35000,0,color=\"yellow\",s=50,marker='o',edgecolors='black')\n",
        "  mat.pyplot.scatter(25000,0,color=\"red\",s=50,marker='o',edgecolors='black')\n",
        "  mat.pyplot.legend(loc=10,bbox_to_anchor=(.88,.85))\n",
        "  mat.pyplot.show(block=False)\n",
        "  pass\n",
        "\n",
        "\n",
        "\n",
        "def testing_sampling(maleDF,femaleDF):\n",
        "  #fetch an empty array\n",
        "  res_array = create_an_array()\n",
        "  for i in np.arange(total_sample_size):\n",
        "    male_female_sample= sampling_data(maleDF,femaleDF)\n",
        "    male_female_sample_table = ds.Table.from_df(male_female_sample)\n",
        "    avg_sal_df = find_the_median(male_female_sample_table,\"Gender\",np.average,\"Gender\",\"SAL\").to_df()\n",
        "    res_array = np.append(res_array, avg_sal_df.iloc[1][\"SAL average\"]-avg_sal_df.iloc[0][\"SAL average\"])\n",
        "  # print(res_array)\n",
        "  final_Male_female_df = maleDF.append(femaleDF)\n",
        "  mean_df = find_the_median(ds.Table.from_df(final_Male_female_df),\"Gender\",np.average,\"Gender\",\"SAL\").to_df()\n",
        "  total_res = mean_df.iloc[1][\"SAL average\"]-mean_df.iloc[0][\"SAL average\"]\n",
        "  mat.pyplot.title(\"Avg of Sal for 500 samples\")\n",
        "  mat.pyplot.hist(res_array,bins=25,alpha=0.5,color='yellow',label=\"Income\")\n",
        "  mat.pyplot.scatter(total_res,0,s=50,color='red',edgecolors=\"black\",label='Average')\n",
        "  mat.pyplot.legend(loc=10,bbox_to_anchor=(.88,.85))\n",
        "  mat.pyplot.show(block=False)\n",
        "  return total_res\n",
        "  pass\n",
        "\n",
        "#boot strap method\n",
        "def boot_strap(maleDF,femaleDF):\n",
        "  res_array = create_an_array()\n",
        "  for i in np.arange(boot_strap_sample):\n",
        "    male_female_sampleDF= sampling_data(maleDF,femaleDF)\n",
        "    mean_df = find_the_median(ds.Table.from_df(male_female_sampleDF).sample(with_replacement=True),\"Gender\",np.average,\"Gender\",\"SAL\").to_df()\n",
        "    res_array = np.append(res_array,mean_df.iloc[1]['SAL average']-mean_df.iloc[0]['SAL average'])\n",
        "  mat.pyplot.title(\"Boot Strap\")\n",
        "  mat.pyplot.hist(res_array,bins=25,alpha=0.5,color=\"yellow\",histtype='bar',orientation='vertical',label=\"Average\")\n",
        "  mat.pyplot.legend(loc=10,bbox_to_anchor=(.88,.85))\n",
        "  mat.pyplot.show(block=False)\n",
        "  pass\n",
        "\n",
        "def compute_pvalue(maleDF,femaleDF,test_stat):\n",
        "  res_array = create_an_array()\n",
        "  for i in np.arange(total_sample_size):\n",
        "    male_female_sample = ds.Table.from_df(sampling_data(maleDF,femaleDF))\n",
        "    male_female_values = male_female_sample.sample(500,with_replacement=False).column(0)\n",
        "    shuffledDF = male_female_sample.with_column(\"Genders shuffled\", male_female_values).select(\"Genders shuffled\",\"SAL\")\n",
        "    shuffled_meanDF = find_the_median(shuffledDF,\"Genders shuffled\",np.average,\"Genders shuffled\",\"SAL\").to_df()\n",
        "    res_array = np.append(res_array, shuffled_meanDF.iloc[1]['SAL average']-shuffled_meanDF.iloc[0]['SAL average'])\n",
        "  empherical_p_value = np.count_nonzero(res_array <= test_stat)/total_sample_size\n",
        "  mat.pyplot.title(f\"p values {empherical_p_value}\")\n",
        "  mat.pyplot.hist(res_array,bins=25,alpha=0.5,color=\"yellow\",histtype='bar',orientation='vertical',label=\"Average\")\n",
        "  mat.pyplot.legend(loc=10,bbox_to_anchor=(.88,.85))\n",
        "  mat.pyplot.show(block=False)\n",
        " \n",
        "  pass\n",
        "\n",
        "\n",
        "def execute_q3(maleDF,femaleDF):\n",
        "  # Q1\n",
        "  sampling_values = sampling_data(maleDF,femaleDF)\n",
        "  print(sampling_values)\n",
        "  # Q3\n",
        "  plot_graph_income_hist(maleDF,femaleDF)\n",
        "  # Q4\n",
        "  test_stat = testing_sampling(maleDF,femaleDF)\n",
        "  # Q6\n",
        "  boot_strap(maleDF,femaleDF)\n",
        "  # Q7\n",
        "  compute_pvalue(maleDF,femaleDF,test_stat)\n",
        "  pass\n",
        "\n",
        "\n",
        "def executor():\n",
        "  median_sal_of_male_and_female_emp = execute_q1()\n",
        "  maleDF = median_sal_of_male_and_female_emp.where(\"Gender\",ds.are.containing(\"Male\")).to_df()\n",
        "  femaleDF = median_sal_of_male_and_female_emp.where(\"Gender\",ds.are.containing(\"Female\")).to_df()\n",
        "  execute_q2(maleDF,femaleDF)\n",
        "  execute_q3(maleDF,femaleDF)\n",
        "  pass\n",
        "\n",
        "executor()\n",
        "\n"
      ],
      "execution_count": 236,
      "outputs": [
        {
          "output_type": "display_data",
          "data": {
            "text/html": [
              "<table border=\"1\" class=\"dataframe\">\n",
              "    <thead>\n",
              "        <tr>\n",
              "            <th>Gender</th> <th>SAL median</th>\n",
              "        </tr>\n",
              "    </thead>\n",
              "    <tbody>\n",
              "        <tr>\n",
              "            <td>Female</td> <td>25000     </td>\n",
              "        </tr>\n",
              "        <tr>\n",
              "            <td>Male  </td> <td>35000     </td>\n",
              "        </tr>\n",
              "    </tbody>\n",
              "</table>"
            ],
            "text/plain": [
              "<IPython.core.display.HTML object>"
            ]
          },
          "metadata": {
            "tags": []
          }
        },
        {
          "output_type": "display_data",
          "data": {
            "image/png": "[encoded data removed]",
            "text/plain": [
              "<Figure size 432x288 with 1 Axes>"
            ]
          },
          "metadata": {
            "tags": []
          }
        },
        {
          "output_type": "stream",
          "text": [
            "       Gender       Salary       SAL\n",
            "12443    Male    70-80,000   75000.0\n",
            "11994    Male    60-70,000   65000.0\n",
            "12683    Male    30-40,000   35000.0\n",
            "63       Male    20-30,000   25000.0\n",
            "3498     Male    10-20,000   15000.0\n",
            "...       ...          ...       ...\n",
            "470    Female     0-10,000    5000.0\n",
            "206    Female  100-125,000  112500.0\n",
            "211    Female  100-125,000  112500.0\n",
            "847    Female    20-30,000   25000.0\n",
            "812    Female    20-30,000   25000.0\n",
            "\n",
            "[500 rows x 3 columns]\n"
          ],
          "name": "stdout"
        },
        {
          "output_type": "display_data",
          "data": {
            "image/png": "[encoded data removed]",
            "text/plain": [
              "<Figure size 432x288 with 1 Axes>"
            ]
          },
          "metadata": {
            "tags": []
          }
        },
        {
          "output_type": "display_data",
          "data": {
            "image/png": "[encoded data removed]",
            "text/plain": [
              "<Figure size 432x288 with 1 Axes>"
            ]
          },
          "metadata": {
            "tags": []
          }
        },
        {
          "output_type": "display_data",
          "data": {
            "image/png": "[encoded data removed]",
            "text/plain": [
              "<Figure size 432x288 with 1 Axes>"
            ]
          },
          "metadata": {
            "tags": []
          }
        },
        {
          "output_type": "display_data",
          "data": {
            "image/png": "[encoded data removed]",
            "text/plain": [
              "<Figure size 432x288 with 1 Axes>"
            ]
          },
          "metadata": {
            "tags": []
          }
        }
      ]
    }
  ]
}