{
  "nbformat": 4,
  "nbformat_minor": 0,
  "metadata": {
    "colab": {
      "name": "INFO5502Assignment06.ipynb",
      "provenance": [],
      "toc_visible": true,
      "authorship_tag": "ABX9TyO2v6TXM1qi3txsp1toxNUh",
      "include_colab_link": true
    },
    "kernelspec": {
      "name": "python3",
      "display_name": "Python 3"
    }
  },
  "cells": [
    {
      "cell_type": "markdown",
      "metadata": {
        "id": "view-in-github",
        "colab_type": "text"
      },
      "source": [
        "<a href=\"https://colab.research.google.com/github/rajitakolla/pythonCode/blob/master/INFO5502Assignment06.ipynb\" target=\"_parent\"><img src=\"https://colab.research.google.com/assets/colab-badge.svg\" alt=\"Open In Colab\"/></a>"
      ]
    },
    {
      "cell_type": "markdown",
      "metadata": {
        "id": "Z70N2p6Cjsr1",
        "colab_type": "text"
      },
      "source": [
        "#1 The Bootstrap and The Normal Curve"
      ]
    },
    {
      "cell_type": "markdown",
      "metadata": {
        "id": "FP-9Ol4wGrsT",
        "colab_type": "text"
      },
      "source": [
        "In this exercise, we will explore a dataset that includes the safety inspection scores for restaurants in the city of Austin, Texas. We will be interested in determining the average restaurant score for the city from a random sample of the scores; the average restaurant score is out of 100. We’ll compare two methods for computing a conﬁdence interval for that quantity: the bootstrap resampling method, and an approximation based on the Central Limit Theorem.\n"
      ]
    },
    {
      "cell_type": "code",
      "metadata": {
        "id": "egJ3WZyRHy5C",
        "colab_type": "code",
        "colab": {}
      },
      "source": [
        "import datascience as dsc\n",
        "import matplotlib as mat\n",
        "%matplotlib inline"
      ],
      "execution_count": 0,
      "outputs": []
    },
    {
      "cell_type": "code",
      "metadata": {
        "id": "wb78LIKsGtXe",
        "colab_type": "code",
        "colab": {
          "base_uri": "https://localhost:8080/",
          "height": 376
        },
        "outputId": "41f9fb47-8312-4bfe-8b53-d14ff2fded63"
      },
      "source": [
        "pop_resturants = dsc.Table.read_table(\"/content/sample_data/restaurant_inspection_scores.csv\").drop(\"Facility ID\",\"Process Description\")\n",
        "pop_resturants"
      ],
      "execution_count": 17,
      "outputs": [
        {
          "output_type": "execute_result",
          "data": {
            "text/html": [
              "<table border=\"1\" class=\"dataframe\">\n",
              "    <thead>\n",
              "        <tr>\n",
              "            <th>Restaurant Name</th> <th>Zip Code</th> <th>Inspection Date</th> <th>Score</th> <th>Address</th>\n",
              "        </tr>\n",
              "    </thead>\n",
              "    <tbody>\n",
              "        <tr>\n",
              "            <td>6M Grocery     </td> <td>78652   </td> <td>01/17/2014     </td> <td>90   </td> <td>805 W FM 1626 RD\n",
              "AUSTIN, TX 78652\n",
              "     </td>\n",
              "        </tr>\n",
              "        <tr>\n",
              "            <td>6M Grocery     </td> <td>78652   </td> <td>04/27/2015     </td> <td>93   </td> <td>805 W FM 1626 RD\n",
              "AUSTIN, TX 78652\n",
              "     </td>\n",
              "        </tr>\n",
              "        <tr>\n",
              "            <td>6M Grocery     </td> <td>78652   </td> <td>05/02/2016     </td> <td>88   </td> <td>805 W FM 1626 RD\n",
              "AUSTIN, TX 78652\n",
              "     </td>\n",
              "        </tr>\n",
              "        <tr>\n",
              "            <td>6M Grocery     </td> <td>78652   </td> <td>07/25/2014     </td> <td>100  </td> <td>805 W FM 1626 RD\n",
              "AUSTIN, TX 78652\n",
              "     </td>\n",
              "        </tr>\n",
              "        <tr>\n",
              "            <td>6M Grocery     </td> <td>78652   </td> <td>10/21/2015     </td> <td>87   </td> <td>805 W FM 1626 RD\n",
              "AUSTIN, TX 78652\n",
              "     </td>\n",
              "        </tr>\n",
              "        <tr>\n",
              "            <td>6M Grocery     </td> <td>78652   </td> <td>12/15/2014     </td> <td>93   </td> <td>805 W FM 1626 RD\n",
              "AUSTIN, TX 78652\n",
              "     </td>\n",
              "        </tr>\n",
              "        <tr>\n",
              "            <td>7 Eleven #36575</td> <td>78660   </td> <td>01/25/2016     </td> <td>92   </td> <td>15829 N IH 35 SVRD NB\n",
              "AUSTIN, TX 78660\n",
              "</td>\n",
              "        </tr>\n",
              "        <tr>\n",
              "            <td>7 Eleven #36575</td> <td>78660   </td> <td>03/05/2015     </td> <td>86   </td> <td>15829 N IH 35 SVRD NB\n",
              "AUSTIN, TX 78660\n",
              "</td>\n",
              "        </tr>\n",
              "        <tr>\n",
              "            <td>7 Eleven #36575</td> <td>78660   </td> <td>03/14/2014     </td> <td>93   </td> <td>15829 N IH 35 SVRD NB\n",
              "AUSTIN, TX 78660\n",
              "</td>\n",
              "        </tr>\n",
              "        <tr>\n",
              "            <td>7 Eleven #36575</td> <td>78660   </td> <td>07/27/2015     </td> <td>97   </td> <td>15829 N IH 35 SVRD NB\n",
              "AUSTIN, TX 78660\n",
              "</td>\n",
              "        </tr>\n",
              "    </tbody>\n",
              "</table>\n",
              "<p>... (24357 rows omitted)</p>"
            ],
            "text/plain": [
              "Restaurant Name | Zip Code | Inspection Date | Score | Address\n",
              "6M Grocery      | 78652    | 01/17/2014      | 90    | 805 W FM 1626 RD\n",
              "AUSTIN, TX 78652\n",
              "6M Grocery      | 78652    | 04/27/2015      | 93    | 805 W FM 1626 RD\n",
              "AUSTIN, TX 78652\n",
              "6M Grocery      | 78652    | 05/02/2016      | 88    | 805 W FM 1626 RD\n",
              "AUSTIN, TX 78652\n",
              "6M Grocery      | 78652    | 07/25/2014      | 100   | 805 W FM 1626 RD\n",
              "AUSTIN, TX 78652\n",
              "6M Grocery      | 78652    | 10/21/2015      | 87    | 805 W FM 1626 RD\n",
              "AUSTIN, TX 78652\n",
              "6M Grocery      | 78652    | 12/15/2014      | 93    | 805 W FM 1626 RD\n",
              "AUSTIN, TX 78652\n",
              "7 Eleven #36575 | 78660    | 01/25/2016      | 92    | 15829 N IH 35 SVRD NB\n",
              "AUSTIN, TX 78660\n",
              "7 Eleven #36575 | 78660    | 03/05/2015      | 86    | 15829 N IH 35 SVRD NB\n",
              "AUSTIN, TX 78660\n",
              "7 Eleven #36575 | 78660    | 03/14/2014      | 93    | 15829 N IH 35 SVRD NB\n",
              "AUSTIN, TX 78660\n",
              "7 Eleven #36575 | 78660    | 07/27/2015      | 97    | 15829 N IH 35 SVRD NB\n",
              "AUSTIN, TX 78660\n",
              "... (24357 rows omitted)"
            ]
          },
          "metadata": {
            "tags": []
          },
          "execution_count": 17
        }
      ]
    },
    {
      "cell_type": "markdown",
      "metadata": {
        "id": "_kTl-pAwNRRn",
        "colab_type": "text"
      },
      "source": [
        "Run the cells below to plot a histogram of scores from pop_resturants"
      ]
    },
    {
      "cell_type": "code",
      "metadata": {
        "id": "CBGSEsIGNfZB",
        "colab_type": "code",
        "colab": {
          "base_uri": "https://localhost:8080/",
          "height": 284
        },
        "outputId": "8c816b4f-2698-40e9-9867-8d284bd5321f"
      },
      "source": [
        "pop_resturants.hist(\"Score\")"
      ],
      "execution_count": 18,
      "outputs": [
        {
          "output_type": "display_data",
          "data": {
            "image/png": "[encoded data removed]",
            "text/plain": [
              "<Figure size 432x288 with 1 Axes>"
            ]
          },
          "metadata": {
            "tags": [],
            "needs_background": "light"
          }
        }
      ]
    },
    {
      "cell_type": "markdown",
      "metadata": {
        "id": "sYdPKjB1NdW6",
        "colab_type": "text"
      },
      "source": [
        "This is the population mean"
      ]
    },
    {
      "cell_type": "code",
      "metadata": {
        "id": "ghwK-BqHPGmF",
        "colab_type": "code",
        "colab": {}
      },
      "source": [
        "import numpy as np"
      ],
      "execution_count": 0,
      "outputs": []
    },
    {
      "cell_type": "code",
      "metadata": {
        "id": "Yr82p_bUPJ9E",
        "colab_type": "code",
        "colab": {
          "base_uri": "https://localhost:8080/",
          "height": 34
        },
        "outputId": "45abd0c0-9a94-4981-b48e-5f46fa95218d"
      },
      "source": [
        "pop_mean = np.mean(pop_resturants.column('Score'))\n",
        "pop_mean"
      ],
      "execution_count": 22,
      "outputs": [
        {
          "output_type": "execute_result",
          "data": {
            "text/plain": [
              "91.40706693478886"
            ]
          },
          "metadata": {
            "tags": []
          },
          "execution_count": 22
        }
      ]
    },
    {
      "cell_type": "markdown",
      "metadata": {
        "id": "JWgDyQb8Pah9",
        "colab_type": "text"
      },
      "source": [
        "Often it is impossible to find complete datasets like this. Imagine we instead had access only to a random sample of 100 resturant inspections, called resturant_sample. The table is created below. We are interested in using this sample to estimate the population mean."
      ]
    },
    {
      "cell_type": "code",
      "metadata": {
        "id": "lk8XsWYLPZzO",
        "colab_type": "code",
        "colab": {
          "base_uri": "https://localhost:8080/",
          "height": 376
        },
        "outputId": "12c97607-edb8-41e6-85e5-f0e4e3730757"
      },
      "source": [
        "restaurant_sample = pop_resturants.sample(100, with_replacement = False)\n",
        "restaurant_sample"
      ],
      "execution_count": 23,
      "outputs": [
        {
          "output_type": "execute_result",
          "data": {
            "text/html": [
              "<table border=\"1\" class=\"dataframe\">\n",
              "    <thead>\n",
              "        <tr>\n",
              "            <th>Restaurant Name</th> <th>Zip Code</th> <th>Inspection Date</th> <th>Score</th> <th>Address</th>\n",
              "        </tr>\n",
              "    </thead>\n",
              "    <tbody>\n",
              "        <tr>\n",
              "            <td>Roaring Fork               </td> <td>78759   </td> <td>08/18/2015     </td> <td>82   </td> <td>10850 STONELAKE BLVD\n",
              "AUSTIN, TX 78759\n",
              "(30.400409, -97.73 ...</td>\n",
              "        </tr>\n",
              "        <tr>\n",
              "            <td>Rutland Market             </td> <td>78758   </td> <td>02/24/2016     </td> <td>76   </td> <td>900 RUTLAND DR\n",
              "AUSTIN, TX 78758\n",
              "(30.365913, -97.698271)     </td>\n",
              "        </tr>\n",
              "        <tr>\n",
              "            <td>Chipotle Mexican Grill #847</td> <td>78758   </td> <td>05/29/2014     </td> <td>90   </td> <td>10515 N MOPAC EXPY NB Bunit 200\n",
              "AUSTIN, TX 78758\n",
              "           </td>\n",
              "        </tr>\n",
              "        <tr>\n",
              "            <td>Zarab's Kababs             </td> <td>78705   </td> <td>10/27/2015     </td> <td>73   </td> <td>2001 GUADALUPE ST Unit A1\n",
              "AUSTIN, TX 78705\n",
              "(30.282893, - ...</td>\n",
              "        </tr>\n",
              "        <tr>\n",
              "            <td>Bombay Express             </td> <td>78753   </td> <td>08/03/2016     </td> <td>92   </td> <td>13000 N IH 35 SVRD SB Bunit 216\n",
              "AUSTIN, TX 78753\n",
              "(30.408 ...</td>\n",
              "        </tr>\n",
              "        <tr>\n",
              "            <td>El Tenampa Bar             </td> <td>78617   </td> <td>04/10/2014     </td> <td>88   </td> <td>2429 E SH 71 WB\n",
              "AUSTIN, TX 78617\n",
              "(30.21403, -97.660192)     </td>\n",
              "        </tr>\n",
              "        <tr>\n",
              "            <td>Brew Market and Cafe       </td> <td>78722   </td> <td>05/07/2015     </td> <td>93   </td> <td>3842 AIRPORT BLVD\n",
              "AUSTIN, TX 78722\n",
              "(30.289795, -97.707404)  </td>\n",
              "        </tr>\n",
              "        <tr>\n",
              "            <td>Johnny G's Butcher Block   </td> <td>78748   </td> <td>09/14/2016     </td> <td>97   </td> <td>11600 MANCHACA RD Unit H\n",
              "AUSTIN, TX 78748\n",
              "(30.151943, -9 ...</td>\n",
              "        </tr>\n",
              "        <tr>\n",
              "            <td>Flamingo Cantina           </td> <td>78701   </td> <td>03/20/2015     </td> <td>84   </td> <td>515 E 6TH ST\n",
              "AUSTIN, TX 78701\n",
              "(30.266629, -97.737703)       </td>\n",
              "        </tr>\n",
              "        <tr>\n",
              "            <td>Casa de Luz                </td> <td>78704   </td> <td>02/25/2015     </td> <td>84   </td> <td>1701 TOOMEY RD\n",
              "AUSTIN, TX 78704\n",
              "(30.264812, -97.761446)     </td>\n",
              "        </tr>\n",
              "    </tbody>\n",
              "</table>\n",
              "<p>... (90 rows omitted)</p>"
            ],
            "text/plain": [
              "Restaurant Name             | Zip Code | Inspection Date | Score | Address\n",
              "Roaring Fork                | 78759    | 08/18/2015      | 82    | 10850 STONELAKE BLVD\n",
              "AUSTIN, TX 78759\n",
              "(30.400409, -97.73 ...\n",
              "Rutland Market              | 78758    | 02/24/2016      | 76    | 900 RUTLAND DR\n",
              "AUSTIN, TX 78758\n",
              "(30.365913, -97.698271)\n",
              "Chipotle Mexican Grill #847 | 78758    | 05/29/2014      | 90    | 10515 N MOPAC EXPY NB Bunit 200\n",
              "AUSTIN, TX 78758\n",
              "Zarab's Kababs              | 78705    | 10/27/2015      | 73    | 2001 GUADALUPE ST Unit A1\n",
              "AUSTIN, TX 78705\n",
              "(30.282893, - ...\n",
              "Bombay Express              | 78753    | 08/03/2016      | 92    | 13000 N IH 35 SVRD SB Bunit 216\n",
              "AUSTIN, TX 78753\n",
              "(30.408 ...\n",
              "El Tenampa Bar              | 78617    | 04/10/2014      | 88    | 2429 E SH 71 WB\n",
              "AUSTIN, TX 78617\n",
              "(30.21403, -97.660192)\n",
              "Brew Market and Cafe        | 78722    | 05/07/2015      | 93    | 3842 AIRPORT BLVD\n",
              "AUSTIN, TX 78722\n",
              "(30.289795, -97.707404)\n",
              "Johnny G's Butcher Block    | 78748    | 09/14/2016      | 97    | 11600 MANCHACA RD Unit H\n",
              "AUSTIN, TX 78748\n",
              "(30.151943, -9 ...\n",
              "Flamingo Cantina            | 78701    | 03/20/2015      | 84    | 515 E 6TH ST\n",
              "AUSTIN, TX 78701\n",
              "(30.266629, -97.737703)\n",
              "Casa de Luz                 | 78704    | 02/25/2015      | 84    | 1701 TOOMEY RD\n",
              "AUSTIN, TX 78704\n",
              "(30.264812, -97.761446)\n",
              "... (90 rows omitted)"
            ]
          },
          "metadata": {
            "tags": []
          },
          "execution_count": 23
        }
      ]
    },
    {
      "cell_type": "markdown",
      "metadata": {
        "id": "zKnu2GjfQA5a",
        "colab_type": "text"
      },
      "source": [
        "Run the cell below to plot a histogram of sample scores from restaurant_sample"
      ]
    },
    {
      "cell_type": "code",
      "metadata": {
        "id": "1q9LEiilQHyG",
        "colab_type": "code",
        "colab": {
          "base_uri": "https://localhost:8080/",
          "height": 284
        },
        "outputId": "fe6eba43-0773-4f02-c12b-0599b3c5b42e"
      },
      "source": [
        "restaurant_sample.hist('Score')"
      ],
      "execution_count": 24,
      "outputs": [
        {
          "output_type": "display_data",
          "data": {
            "image/png": "[encoded data removed]",
            "text/plain": [
              "<Figure size 432x288 with 1 Axes>"
            ]
          },
          "metadata": {
            "tags": [],
            "needs_background": "light"
          }
        }
      ]
    },
    {
      "cell_type": "markdown",
      "metadata": {
        "id": "U8p26LdOQRkC",
        "colab_type": "text"
      },
      "source": [
        "This is the sample Mean"
      ]
    },
    {
      "cell_type": "code",
      "metadata": {
        "id": "7EfrD25RQQoW",
        "colab_type": "code",
        "colab": {
          "base_uri": "https://localhost:8080/",
          "height": 34
        },
        "outputId": "74299ca5-1254-4fc4-fddb-9ba2d406dcf9"
      },
      "source": [
        "sample_mean = np.mean(restaurant_sample.column('Score'))\n",
        "sample_mean"
      ],
      "execution_count": 26,
      "outputs": [
        {
          "output_type": "execute_result",
          "data": {
            "text/plain": [
              "90.69"
            ]
          },
          "metadata": {
            "tags": []
          },
          "execution_count": 26
        }
      ]
    },
    {
      "cell_type": "markdown",
      "metadata": {
        "id": "5aqqpWsRQgTr",
        "colab_type": "text"
      },
      "source": [
        "# 1.1 Question 1"
      ]
    },
    {
      "cell_type": "markdown",
      "metadata": {
        "id": "5R6Ma4PbQj3B",
        "colab_type": "text"
      },
      "source": [
        "Complete the function one resampled mean below. It should take in an original table data, with a column Score, and return the mean score of one resampling from data.\n"
      ]
    },
    {
      "cell_type": "code",
      "metadata": {
        "id": "36fyOMBHQfhb",
        "colab_type": "code",
        "colab": {
          "base_uri": "https://localhost:8080/",
          "height": 34
        },
        "outputId": "b0708de8-3042-4ca8-c8aa-a9a1b1e5a1fc"
      },
      "source": [
        "def one_resampled_mean(data):\n",
        "  return np.mean(data.select('Score').sample().column(0))\n",
        "  pass\n",
        "\n",
        "#Visualize one call of your function\n",
        "this_mean = one_resampled_mean(restaurant_sample)\n",
        "this_mean"
      ],
      "execution_count": 28,
      "outputs": [
        {
          "output_type": "execute_result",
          "data": {
            "text/plain": [
              "90.92"
            ]
          },
          "metadata": {
            "tags": []
          },
          "execution_count": 28
        }
      ]
    },
    {
      "cell_type": "markdown",
      "metadata": {
        "id": "Eelmr8OVSEsM",
        "colab_type": "text"
      },
      "source": [
        "#1.2 Question 2"
      ]
    },
    {
      "cell_type": "markdown",
      "metadata": {
        "id": "LT9RvWiRRye9",
        "colab_type": "text"
      },
      "source": [
        "Complete the function bootstrap scores below. It should take no arguments. It should simulate drawing 5000 resamples from restaurant sample and compute the mean restaurant score in each resample. It should return an array of those 5000 resample means.\n"
      ]
    },
    {
      "cell_type": "code",
      "metadata": {
        "id": "4pscka_GSlsF",
        "colab_type": "code",
        "colab": {}
      },
      "source": [
        "def create_an_empty_array():\n",
        "  return dsc.util.make_array()\n",
        "  pass"
      ],
      "execution_count": 0,
      "outputs": []
    },
    {
      "cell_type": "code",
      "metadata": {
        "id": "Gwj4yLIkRx7C",
        "colab_type": "code",
        "colab": {
          "base_uri": "https://localhost:8080/",
          "height": 34
        },
        "outputId": "3605bb1c-d4bf-41c7-a76f-6569d43100b0"
      },
      "source": [
        "Total_Samples = 5000\n",
        "def bootstrap_scores():\n",
        "  resampled_means = create_an_empty_array()\n",
        "  for i in range(Total_Samples):\n",
        "    resampled_means = np.append(resampled_means, one_resampled_mean(restaurant_sample))\n",
        "  return resampled_means\n",
        "  pass\n",
        "\n",
        "\n",
        "resampled_means = bootstrap_scores()\n",
        "resampled_means"
      ],
      "execution_count": 92,
      "outputs": [
        {
          "output_type": "execute_result",
          "data": {
            "text/plain": [
              "array([92.23, 91.02, 90.3 , ..., 90.15, 91.58, 91.1 ])"
            ]
          },
          "metadata": {
            "tags": []
          },
          "execution_count": 92
        }
      ]
    },
    {
      "cell_type": "markdown",
      "metadata": {
        "id": "76PMBHFtTocZ",
        "colab_type": "text"
      },
      "source": [
        "plot a histogram to analyse the result "
      ]
    },
    {
      "cell_type": "code",
      "metadata": {
        "id": "RhghFec4TsoW",
        "colab_type": "code",
        "colab": {
          "base_uri": "https://localhost:8080/",
          "height": 284
        },
        "outputId": "f7729636-62ef-4cd1-a92a-ac0870bbbde1"
      },
      "source": [
        "final_table = dsc.Table().with_column(\"Resampled Means\",resampled_means)\n",
        "final_table.hist()"
      ],
      "execution_count": 62,
      "outputs": [
        {
          "output_type": "display_data",
          "data": {
            "image/png": "[encoded data removed]",
            "text/plain": [
              "<Figure size 432x288 with 1 Axes>"
            ]
          },
          "metadata": {
            "tags": [],
            "needs_background": "light"
          }
        }
      ]
    },
    {
      "cell_type": "markdown",
      "metadata": {
        "id": "MqSfI7NlTPRI",
        "colab_type": "text"
      },
      "source": [
        "# 1.3 Question 3\n"
      ]
    },
    {
      "cell_type": "markdown",
      "metadata": {
        "id": "5Fk5JdGkTSfy",
        "colab_type": "text"
      },
      "source": [
        "Compute a 95 percent conﬁdence interval for the average restaurant score using the array resampled means.\n"
      ]
    },
    {
      "cell_type": "code",
      "metadata": {
        "id": "cAbnM1zSTUcZ",
        "colab_type": "code",
        "colab": {
          "base_uri": "https://localhost:8080/",
          "height": 52
        },
        "outputId": "d7b9736a-a0c7-4321-ef19-4daf18723f3f"
      },
      "source": [
        "lower_bound = np.percentile(resampled_means, 2.5)\n",
        "upper_bound = np.percentile(resampled_means, 97.5)\n",
        "print(\"95% confidence interval for the average resturant score, computed by bootstrapping:\\n(\",lower_bound,\",\",upper_bound, \")\")"
      ],
      "execution_count": 63,
      "outputs": [
        {
          "output_type": "stream",
          "text": [
            "95% confidence interval for the average resturant score, computed by bootstrapping:\n",
            "( 88.88 , 92.35 )\n"
          ],
          "name": "stdout"
        }
      ]
    },
    {
      "cell_type": "markdown",
      "metadata": {
        "id": "ahCcOQJDVZqO",
        "colab_type": "text"
      },
      "source": [
        "#1.4 Question 4\n"
      ]
    },
    {
      "cell_type": "markdown",
      "metadata": {
        "id": "tlhGAH4KVewt",
        "colab_type": "text"
      },
      "source": [
        "What distribution is the histogram between question 2 and 3 displaying (that is, what data are plotted), and why does it have that shape?"
      ]
    },
    {
      "cell_type": "code",
      "metadata": {
        "id": "KPEDb32DVg8R",
        "colab_type": "code",
        "colab": {
          "base_uri": "https://localhost:8080/",
          "height": 284
        },
        "outputId": "1a614132-f836-4949-818e-e4885667d917"
      },
      "source": [
        "final_table = dsc.Table().with_column(\"Resampled Means\",resampled_means)\n",
        "final_table.hist()"
      ],
      "execution_count": 64,
      "outputs": [
        {
          "output_type": "display_data",
          "data": {
            "image/png": "[encoded data removed]",
            "text/plain": [
              "<Figure size 432x288 with 1 Axes>"
            ]
          },
          "metadata": {
            "tags": [],
            "needs_background": "light"
          }
        }
      ]
    },
    {
      "cell_type": "markdown",
      "metadata": {
        "id": "noJoeDHrWBDp",
        "colab_type": "text"
      },
      "source": [
        "**Answer)**  Sample Means are in Normal Distribution shape. Central Limit theorem states that \"when independent random variables are added, their properly normalized sum tends toward a normal distribution even if the original variables themselves are not normally distributed and the random variable distribution will be normal or nearly normal if the sample size is large enough\". So the curve has a bell shape"
      ]
    },
    {
      "cell_type": "markdown",
      "metadata": {
        "id": "If_T-ZVUWvne",
        "colab_type": "text"
      },
      "source": [
        "# 1.5 Question 5\n"
      ]
    },
    {
      "cell_type": "markdown",
      "metadata": {
        "id": "LIuE3PmRWyia",
        "colab_type": "text"
      },
      "source": [
        "Does the distribution of the sampled scores look normally distributed? State “yes” or “no” and describe in one sentence why you should expect this result.\n"
      ]
    },
    {
      "cell_type": "markdown",
      "metadata": {
        "id": "2jNH6atBW2TY",
        "colab_type": "text"
      },
      "source": [
        "** Answer)** No because Central Limit Theorem is not applicable for the sampled score instead we apply that on means, sums and other mathematical computations. \n",
        "\n",
        "Its due to the fact that \n",
        "1. If group has a normal distribution around 95% of them lie within two standard deviations of means.\n",
        "2. The central limit theorem states that the quantitative relationship between standard deviation of an array of numbers and means of samples extracted from the set. "
      ]
    },
    {
      "cell_type": "markdown",
      "metadata": {
        "id": "lKZTNHklYpQx",
        "colab_type": "text"
      },
      "source": [
        "# 1.6 Question 6\n"
      ]
    },
    {
      "cell_type": "markdown",
      "metadata": {
        "id": "J0wPsYFfYrNt",
        "colab_type": "text"
      },
      "source": [
        "Without referencing the array resampled means or performing any new simulations, calculate an interval around the sample mean that covers approximately 95% of the numbers in the resampled means array. This conﬁdence interval should look very similar to the one you computed in Question 3.\n"
      ]
    },
    {
      "cell_type": "code",
      "metadata": {
        "id": "nOG5VdVyYtuZ",
        "colab_type": "code",
        "colab": {
          "base_uri": "https://localhost:8080/",
          "height": 52
        },
        "outputId": "5e0815a4-9588-44ce-f02d-b22301afa60a"
      },
      "source": [
        "sample_mean = np.mean(restaurant_sample.select('Score').column(0))\n",
        "standard_deviation_sample = np.std(restaurant_sample.select('Score').column(0))\n",
        "\n",
        "mean_of_standard_deviation = standard_deviation_sample/np.sqrt(restaurant_sample.num_rows)\n",
        "\n",
        "square_of_mean_standard_deviation = 2*mean_of_standard_deviation\n",
        "lower_bound_new = sample_mean-square_of_mean_standard_deviation\n",
        "upper_bound_new = sample_mean+square_of_mean_standard_deviation\n",
        "\n",
        "\n",
        "print(\"95% confidence interval for the average resturant score, computed by bootstrapping:\\n(\",lower_bound_new,\",\",upper_bound_new, \")\")\n"
      ],
      "execution_count": 55,
      "outputs": [
        {
          "output_type": "stream",
          "text": [
            "95% confidence interval for the average resturant score, computed by bootstrapping:\n",
            "( 88.94398854528384 , 92.43601145471615 )\n"
          ],
          "name": "stdout"
        }
      ]
    },
    {
      "cell_type": "markdown",
      "metadata": {
        "id": "9ApTIVU1bEXu",
        "colab_type": "text"
      },
      "source": [
        "# 2 Testing the Central Limit Theorem"
      ]
    },
    {
      "cell_type": "markdown",
      "metadata": {
        "id": "mMRpluyqbIIe",
        "colab_type": "text"
      },
      "source": [
        "To recap the properties we just saw: The Central Limit Theorem tells us that the probability distribution of the sum or average of a large random sample drawn with replacement will be roughly normal, regardless of the distribution of the population from which the sample is drawn.\n"
      ]
    },
    {
      "cell_type": "markdown",
      "metadata": {
        "id": "5nnnNRNnbJhb",
        "colab_type": "text"
      },
      "source": [
        "#2.1 Question 1"
      ]
    },
    {
      "cell_type": "markdown",
      "metadata": {
        "id": "lQpQKO2SbOpj",
        "colab_type": "text"
      },
      "source": [
        "Deﬁne the function one statistic prop heads which should return exactly one simulated statistic of the proportion of heads from n coin ﬂips."
      ]
    },
    {
      "cell_type": "code",
      "metadata": {
        "id": "PQs3bBhodBpF",
        "colab_type": "code",
        "colab": {}
      },
      "source": [
        "def create_an_empty_array_params(*args):\n",
        "  return dsc.util.make_array(args[0],args[1])\n",
        "  pass"
      ],
      "execution_count": 0,
      "outputs": []
    },
    {
      "cell_type": "code",
      "metadata": {
        "id": "FLVbaXbWbQP8",
        "colab_type": "code",
        "colab": {
          "base_uri": "https://localhost:8080/",
          "height": 34
        },
        "outputId": "7617470b-c7da-48fb-cb44-57b74250bffc"
      },
      "source": [
        "coin_proportions = create_an_empty_array_params(.5,.5) # heads and tails\n",
        "def one_statistic_prop_heads(n):\n",
        "  simulated_proportions = dsc.util.sample_proportions(n,coin_proportions)\n",
        "  prop_heads = simulated_proportions.item(0)\n",
        "  return prop_heads\n",
        "  pass\n",
        "\n",
        "one_statistic_prop_heads(50)"
      ],
      "execution_count": 126,
      "outputs": [
        {
          "output_type": "execute_result",
          "data": {
            "text/plain": [
              "0.5"
            ]
          },
          "metadata": {
            "tags": []
          },
          "execution_count": 126
        }
      ]
    },
    {
      "cell_type": "markdown",
      "metadata": {
        "id": "PO2uYN1oeeNw",
        "colab_type": "text"
      },
      "source": [
        "#2.2 Question 2"
      ]
    },
    {
      "cell_type": "markdown",
      "metadata": {
        "id": "aaILQgpQefdr",
        "colab_type": "text"
      },
      "source": [
        "The CLT only applies when sample sizes are “suﬃciently large.” This isn’t a very precise statement. Is 10 large? How about 50? The truth is that it depends both on the original population distribution and just how “normal” you want the result to look. \n",
        "\n",
        "Consider a coin ﬂip. If we say Heads is 1 and Tails is 0, then there’s a 50% chance of getting a 1 and a 50% chance of getting a 0, which deﬁnitely doesn’t match our deﬁnition of a normal distribution. The average of several coin tosses, where Heads is 1 and Tails is 0, is equal to the proportion of heads in those coin tosses (which is equivalent to the mean value of the coin tosses), so the CLT should hold true if we compute the sample proportion of heads many times. \n",
        "\n",
        "Write a function called sample size n that takes in a sample size n. It should return an array that contains 5000 sample proportions of heads, each from n coin ﬂips.\n"
      ]
    },
    {
      "cell_type": "code",
      "metadata": {
        "id": "y3ET56CxehYu",
        "colab_type": "code",
        "colab": {
          "base_uri": "https://localhost:8080/",
          "height": 34
        },
        "outputId": "a655fbcf-28ae-4d43-a9b8-7c855f36984f"
      },
      "source": [
        "def sample_size_n(n):\n",
        "  coin_proportions = create_an_empty_array_params(.5,.5)\n",
        "  head_proportions = create_an_empty_array()\n",
        "  for i in np.arange(5000):\n",
        "    prop_heads = one_statistic_prop_heads(n)\n",
        "    head_proportions = np.append(head_proportions, prop_heads)\n",
        "  return head_proportions\n",
        "  pass\n",
        "\n",
        "sample_size_n(50)"
      ],
      "execution_count": 133,
      "outputs": [
        {
          "output_type": "execute_result",
          "data": {
            "text/plain": [
              "array([0.52, 0.44, 0.56, ..., 0.48, 0.54, 0.4 ])"
            ]
          },
          "metadata": {
            "tags": []
          },
          "execution_count": 133
        }
      ]
    },
    {
      "cell_type": "markdown",
      "metadata": {
        "id": "GBhOEj5hf_q7",
        "colab_type": "text"
      },
      "source": [
        "#2.3 Question 3\n"
      ]
    },
    {
      "cell_type": "markdown",
      "metadata": {
        "id": "Bsg2FsxkgE-9",
        "colab_type": "text"
      },
      "source": [
        "Write a function called empirical sample mean sd that takes a sample size n as its argument. The function should simulate 500 samples with replacement of size n from the ﬂight delays dataset, and it should return the standard deviation of the means of those 500 samples.\n"
      ]
    },
    {
      "cell_type": "code",
      "metadata": {
        "id": "CLWoyJ_ohW7L",
        "colab_type": "code",
        "colab": {}
      },
      "source": [
        "united_summer  = dsc.Table.read_table(\"/content/sample_data/united_summer2015.csv\")"
      ],
      "execution_count": 0,
      "outputs": []
    },
    {
      "cell_type": "code",
      "metadata": {
        "id": "SrcMHVjcgG97",
        "colab_type": "code",
        "colab": {
          "base_uri": "https://localhost:8080/",
          "height": 34
        },
        "outputId": "2029d875-20d3-41a2-91e2-064e571600a9"
      },
      "source": [
        "def emperical_sample_mean_sd(n):\n",
        "  sample_means = create_an_empty_array()\n",
        "  for i in np.arange(500):\n",
        "    sample_data = united_summer.sample(10,with_replacement=True)\n",
        "    sample_means=np.append(sample_means, np.mean(sample_data.column('Delay')))\n",
        "  return np.std(sample_means)\n",
        "  pass\n",
        "\n",
        "emperical_sample_mean_sd(10)"
      ],
      "execution_count": 141,
      "outputs": [
        {
          "output_type": "execute_result",
          "data": {
            "text/plain": [
              "12.888061322014261"
            ]
          },
          "metadata": {
            "tags": []
          },
          "execution_count": 141
        }
      ]
    },
    {
      "cell_type": "markdown",
      "metadata": {
        "id": "hnnejNt2igI8",
        "colab_type": "text"
      },
      "source": [
        "#2.4 Question 4\n"
      ]
    },
    {
      "cell_type": "markdown",
      "metadata": {
        "id": "FFhLav3Hiy6D",
        "colab_type": "text"
      },
      "source": [
        "Now, write a function called predict sample mean sd to ﬁnd the predicted value of the standard deviation of means according to the relationship between the standard deviation of the sample mean and sample size that is discussed in the textbook. It takes a sample size n (a number) as its argument. It returns the predicted value of the standard deviation of the mean delay time for samples of size n from the ﬂight delays (represented in the table united).\n"
      ]
    },
    {
      "cell_type": "code",
      "metadata": {
        "id": "JoXuImRli1nA",
        "colab_type": "code",
        "colab": {
          "base_uri": "https://localhost:8080/",
          "height": 34
        },
        "outputId": "9ad05bd8-e8b5-47f2-811c-319e5f57fe24"
      },
      "source": [
        "def predict_sample_mean_sd(n):\n",
        "  return np.std(united_summer.column('Delay'))/(n**0.5) \n",
        "  pass\n",
        "\n",
        "predict_sample_mean_sd(10)"
      ],
      "execution_count": 142,
      "outputs": [
        {
          "output_type": "execute_result",
          "data": {
            "text/plain": [
              "12.484735400972708"
            ]
          },
          "metadata": {
            "tags": []
          },
          "execution_count": 142
        }
      ]
    }
  ]
}