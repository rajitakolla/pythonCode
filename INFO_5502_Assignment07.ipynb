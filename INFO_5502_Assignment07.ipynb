{
  "nbformat": 4,
  "nbformat_minor": 0,
  "metadata": {
    "colab": {
      "name": "INFO-5502-Assignment07.ipynb",
      "provenance": [],
      "toc_visible": true,
      "authorship_tag": "ABX9TyO/fVAptO+GMDfmYkZa2WHd",
      "include_colab_link": true
    },
    "kernelspec": {
      "name": "python3",
      "display_name": "Python 3"
    }
  },
  "cells": [
    {
      "cell_type": "markdown",
      "metadata": {
        "id": "view-in-github",
        "colab_type": "text"
      },
      "source": [
        "<a href=\"https://colab.research.google.com/github/rajitakolla/pythonCode/blob/master/INFO_5502_Assignment07.ipynb\" target=\"_parent\"><img src=\"https://colab.research.google.com/assets/colab-badge.svg\" alt=\"Open In Colab\"/></a>"
      ]
    },
    {
      "cell_type": "markdown",
      "metadata": {
        "id": "zW_IVKHAl7JG",
        "colab_type": "text"
      },
      "source": [
        "# **Name: Rajita Kolla**\n",
        "# **Student id: 11369877**\n",
        "\n",
        "Gitlink : https://github.com/rajitakolla/pythonCode/blob/master/INFO_5502_Assignment07.ipynb"
      ]
    },
    {
      "cell_type": "markdown",
      "metadata": {
        "id": "qRKiXvml3IFj",
        "colab_type": "text"
      },
      "source": [
        "#**Implement a KNN Classifier**"
      ]
    },
    {
      "cell_type": "markdown",
      "metadata": {
        "id": "_D3Qtlv207IL",
        "colab_type": "text"
      },
      "source": [
        "**The k-nearest neighbors algorithm is among the simplest of all machine learning\n",
        "algorithms.An object is classified by a majority vote of its neighbors with the \n",
        "bject being assigned to the class most common among its k nearest neighbors.\n",
        "K is a positive integer, typically small: k = 3, 5, or 10.**\n",
        "\n",
        "---\n",
        "\n",
        "\n",
        "**KNN can do multiple (more than two) class prediction.**"
      ]
    },
    {
      "cell_type": "markdown",
      "metadata": {
        "id": "Io4ahecYmNuC",
        "colab_type": "text"
      },
      "source": [
        "**INCLUDE THE REQUIRED LIBRARIES**"
      ]
    },
    {
      "cell_type": "code",
      "metadata": {
        "id": "1SdFpWpMmDo7",
        "colab_type": "code",
        "outputId": "c2a79d3d-a19c-455e-d554-d80e11817cae",
        "colab": {
          "base_uri": "https://localhost:8080/",
          "height": 107
        }
      },
      "source": [
        "import numpy as np\n",
        "import pandas as pd\n",
        "import matplotlib as mat\n",
        "import datascience as dsc\n",
        "import sklearn as sk"
      ],
      "execution_count": 0,
      "outputs": [
        {
          "output_type": "stream",
          "text": [
            "/usr/local/lib/python3.6/dist-packages/datascience/tables.py:17: MatplotlibDeprecationWarning: The 'warn' parameter of use() is deprecated since Matplotlib 3.1 and will be removed in 3.3.  If any parameter follows 'warn', they should be pass as keyword, not positionally.\n",
            "  matplotlib.use('agg', warn=False)\n",
            "/usr/local/lib/python3.6/dist-packages/datascience/util.py:10: MatplotlibDeprecationWarning: The 'warn' parameter of use() is deprecated since Matplotlib 3.1 and will be removed in 3.3.  If any parameter follows 'warn', they should be pass as keyword, not positionally.\n",
            "  matplotlib.use('agg', warn=False)\n"
          ],
          "name": "stderr"
        }
      ]
    },
    {
      "cell_type": "code",
      "metadata": {
        "id": "RtyrweW4mRjI",
        "colab_type": "code",
        "colab": {}
      },
      "source": [
        "from pandas.plotting import scatter_matrix\n",
        "from matplotlib import pyplot\n",
        "%matplotlib inline"
      ],
      "execution_count": 0,
      "outputs": []
    },
    {
      "cell_type": "markdown",
      "metadata": {
        "id": "kemoeDkAmXMa",
        "colab_type": "text"
      },
      "source": [
        "**sklearn libraries**"
      ]
    },
    {
      "cell_type": "code",
      "metadata": {
        "id": "S5k3AY2-mT-q",
        "colab_type": "code",
        "colab": {}
      },
      "source": [
        "from sklearn.neighbors import KNeighborsClassifier\n",
        "from sklearn.model_selection import train_test_split"
      ],
      "execution_count": 0,
      "outputs": []
    },
    {
      "cell_type": "code",
      "metadata": {
        "id": "9y_xLF7JnNcX",
        "colab_type": "code",
        "colab": {}
      },
      "source": [
        "from sklearn.model_selection import KFold\n",
        "from sklearn.model_selection import cross_val_score\n",
        "from sklearn.metrics import classification_report"
      ],
      "execution_count": 0,
      "outputs": []
    },
    {
      "cell_type": "markdown",
      "metadata": {
        "id": "WAnO9K6WnVs0",
        "colab_type": "text"
      },
      "source": [
        "#**Import the Dataset**"
      ]
    },
    {
      "cell_type": "code",
      "metadata": {
        "id": "_RsmK4B4nUUB",
        "colab_type": "code",
        "colab": {}
      },
      "source": [
        "from sklearn.datasets import load_iris"
      ],
      "execution_count": 0,
      "outputs": []
    },
    {
      "cell_type": "code",
      "metadata": {
        "id": "KU98rxTCnt4l",
        "colab_type": "code",
        "colab": {}
      },
      "source": [
        "data = load_iris()\n",
        "type(data)"
      ],
      "execution_count": 0,
      "outputs": []
    },
    {
      "cell_type": "code",
      "metadata": {
        "id": "O6SlI8IPn-Ya",
        "colab_type": "code",
        "outputId": "e4657ff7-8b6c-4887-ccf6-4a0a9d1834e5",
        "colab": {
          "base_uri": "https://localhost:8080/",
          "height": 87
        }
      },
      "source": [
        "data.feature_names"
      ],
      "execution_count": 112,
      "outputs": [
        {
          "output_type": "execute_result",
          "data": {
            "text/plain": [
              "['sepal length (cm)',\n",
              " 'sepal width (cm)',\n",
              " 'petal length (cm)',\n",
              " 'petal width (cm)']"
            ]
          },
          "metadata": {
            "tags": []
          },
          "execution_count": 112
        }
      ]
    },
    {
      "cell_type": "code",
      "metadata": {
        "id": "tAzvSuMVqIMJ",
        "colab_type": "code",
        "outputId": "700214ad-a6af-4adc-f7f0-83a599f3e9dc",
        "colab": {
          "base_uri": "https://localhost:8080/",
          "height": 34
        }
      },
      "source": [
        "data.target_names"
      ],
      "execution_count": 113,
      "outputs": [
        {
          "output_type": "execute_result",
          "data": {
            "text/plain": [
              "array(['setosa', 'versicolor', 'virginica'], dtype='<U10')"
            ]
          },
          "metadata": {
            "tags": []
          },
          "execution_count": 113
        }
      ]
    },
    {
      "cell_type": "markdown",
      "metadata": {
        "id": "v_m3S8REoe12",
        "colab_type": "text"
      },
      "source": [
        "**Convert sklearn.utils.Bunch to DataFrame**"
      ]
    },
    {
      "cell_type": "code",
      "metadata": {
        "id": "IVgk_vT6qe7p",
        "colab_type": "code",
        "colab": {}
      },
      "source": [
        "def apply_values_to_target(value):\n",
        "  if(value == 0):\n",
        "    return 'setosa'\n",
        "  elif(value == 1):\n",
        "    return 'versicolor'\n",
        "  elif(value == 2):\n",
        "    return 'virginica'\n",
        "  else:\n",
        "    return np.NaN\n",
        "  pass"
      ],
      "execution_count": 0,
      "outputs": []
    },
    {
      "cell_type": "code",
      "metadata": {
        "id": "8_M72vbeqPPB",
        "colab_type": "code",
        "outputId": "fd65009b-e3bf-4b25-f272-fc99124de026",
        "colab": {
          "base_uri": "https://localhost:8080/",
          "height": 406
        }
      },
      "source": [
        "iris_data = pd.DataFrame(data= np.c_[data['data'], data['target']], columns= data['feature_names'] + ['target'])\n",
        "iris_data['species'] = iris_data['target'].apply(apply_values_to_target)\n",
        "iris_data"
      ],
      "execution_count": 115,
      "outputs": [
        {
          "output_type": "execute_result",
          "data": {
            "text/html": [
              "<div>\n",
              "<style scoped>\n",
              "    .dataframe tbody tr th:only-of-type {\n",
              "        vertical-align: middle;\n",
              "    }\n",
              "\n",
              "    .dataframe tbody tr th {\n",
              "        vertical-align: top;\n",
              "    }\n",
              "\n",
              "    .dataframe thead th {\n",
              "        text-align: right;\n",
              "    }\n",
              "</style>\n",
              "<table border=\"1\" class=\"dataframe\">\n",
              "  <thead>\n",
              "    <tr style=\"text-align: right;\">\n",
              "      <th></th>\n",
              "      <th>sepal length (cm)</th>\n",
              "      <th>sepal width (cm)</th>\n",
              "      <th>petal length (cm)</th>\n",
              "      <th>petal width (cm)</th>\n",
              "      <th>target</th>\n",
              "      <th>species</th>\n",
              "    </tr>\n",
              "  </thead>\n",
              "  <tbody>\n",
              "    <tr>\n",
              "      <th>0</th>\n",
              "      <td>5.1</td>\n",
              "      <td>3.5</td>\n",
              "      <td>1.4</td>\n",
              "      <td>0.2</td>\n",
              "      <td>0.0</td>\n",
              "      <td>setosa</td>\n",
              "    </tr>\n",
              "    <tr>\n",
              "      <th>1</th>\n",
              "      <td>4.9</td>\n",
              "      <td>3.0</td>\n",
              "      <td>1.4</td>\n",
              "      <td>0.2</td>\n",
              "      <td>0.0</td>\n",
              "      <td>setosa</td>\n",
              "    </tr>\n",
              "    <tr>\n",
              "      <th>2</th>\n",
              "      <td>4.7</td>\n",
              "      <td>3.2</td>\n",
              "      <td>1.3</td>\n",
              "      <td>0.2</td>\n",
              "      <td>0.0</td>\n",
              "      <td>setosa</td>\n",
              "    </tr>\n",
              "    <tr>\n",
              "      <th>3</th>\n",
              "      <td>4.6</td>\n",
              "      <td>3.1</td>\n",
              "      <td>1.5</td>\n",
              "      <td>0.2</td>\n",
              "      <td>0.0</td>\n",
              "      <td>setosa</td>\n",
              "    </tr>\n",
              "    <tr>\n",
              "      <th>4</th>\n",
              "      <td>5.0</td>\n",
              "      <td>3.6</td>\n",
              "      <td>1.4</td>\n",
              "      <td>0.2</td>\n",
              "      <td>0.0</td>\n",
              "      <td>setosa</td>\n",
              "    </tr>\n",
              "    <tr>\n",
              "      <th>...</th>\n",
              "      <td>...</td>\n",
              "      <td>...</td>\n",
              "      <td>...</td>\n",
              "      <td>...</td>\n",
              "      <td>...</td>\n",
              "      <td>...</td>\n",
              "    </tr>\n",
              "    <tr>\n",
              "      <th>145</th>\n",
              "      <td>6.7</td>\n",
              "      <td>3.0</td>\n",
              "      <td>5.2</td>\n",
              "      <td>2.3</td>\n",
              "      <td>2.0</td>\n",
              "      <td>virginica</td>\n",
              "    </tr>\n",
              "    <tr>\n",
              "      <th>146</th>\n",
              "      <td>6.3</td>\n",
              "      <td>2.5</td>\n",
              "      <td>5.0</td>\n",
              "      <td>1.9</td>\n",
              "      <td>2.0</td>\n",
              "      <td>virginica</td>\n",
              "    </tr>\n",
              "    <tr>\n",
              "      <th>147</th>\n",
              "      <td>6.5</td>\n",
              "      <td>3.0</td>\n",
              "      <td>5.2</td>\n",
              "      <td>2.0</td>\n",
              "      <td>2.0</td>\n",
              "      <td>virginica</td>\n",
              "    </tr>\n",
              "    <tr>\n",
              "      <th>148</th>\n",
              "      <td>6.2</td>\n",
              "      <td>3.4</td>\n",
              "      <td>5.4</td>\n",
              "      <td>2.3</td>\n",
              "      <td>2.0</td>\n",
              "      <td>virginica</td>\n",
              "    </tr>\n",
              "    <tr>\n",
              "      <th>149</th>\n",
              "      <td>5.9</td>\n",
              "      <td>3.0</td>\n",
              "      <td>5.1</td>\n",
              "      <td>1.8</td>\n",
              "      <td>2.0</td>\n",
              "      <td>virginica</td>\n",
              "    </tr>\n",
              "  </tbody>\n",
              "</table>\n",
              "<p>150 rows × 6 columns</p>\n",
              "</div>"
            ],
            "text/plain": [
              "     sepal length (cm)  sepal width (cm)  ...  target    species\n",
              "0                  5.1               3.5  ...     0.0     setosa\n",
              "1                  4.9               3.0  ...     0.0     setosa\n",
              "2                  4.7               3.2  ...     0.0     setosa\n",
              "3                  4.6               3.1  ...     0.0     setosa\n",
              "4                  5.0               3.6  ...     0.0     setosa\n",
              "..                 ...               ...  ...     ...        ...\n",
              "145                6.7               3.0  ...     2.0  virginica\n",
              "146                6.3               2.5  ...     2.0  virginica\n",
              "147                6.5               3.0  ...     2.0  virginica\n",
              "148                6.2               3.4  ...     2.0  virginica\n",
              "149                5.9               3.0  ...     2.0  virginica\n",
              "\n",
              "[150 rows x 6 columns]"
            ]
          },
          "metadata": {
            "tags": []
          },
          "execution_count": 115
        }
      ]
    },
    {
      "cell_type": "markdown",
      "metadata": {
        "id": "ajB1fAOwrhKN",
        "colab_type": "text"
      },
      "source": [
        "#**PreProcess the dataset to check if any null values exist**"
      ]
    },
    {
      "cell_type": "code",
      "metadata": {
        "id": "LRHV2ff3rflu",
        "colab_type": "code",
        "outputId": "034256e9-8953-4775-c680-674fb3ec2992",
        "colab": {
          "base_uri": "https://localhost:8080/",
          "height": 141
        }
      },
      "source": [
        "iris_data.isnull().sum()"
      ],
      "execution_count": 116,
      "outputs": [
        {
          "output_type": "execute_result",
          "data": {
            "text/plain": [
              "sepal length (cm)    0\n",
              "sepal width (cm)     0\n",
              "petal length (cm)    0\n",
              "petal width (cm)     0\n",
              "target               0\n",
              "species              0\n",
              "dtype: int64"
            ]
          },
          "metadata": {
            "tags": []
          },
          "execution_count": 116
        }
      ]
    },
    {
      "cell_type": "markdown",
      "metadata": {
        "id": "l50q9AhnrurR",
        "colab_type": "text"
      },
      "source": [
        "#**Exploratory Data Analysis**"
      ]
    },
    {
      "cell_type": "markdown",
      "metadata": {
        "id": "Iv8iqUwtrx-x",
        "colab_type": "text"
      },
      "source": [
        "**Find the dimensions of Dataset**"
      ]
    },
    {
      "cell_type": "code",
      "metadata": {
        "id": "Cg28a1Ren_67",
        "colab_type": "code",
        "outputId": "bbca8e6d-7691-4ef0-f0af-e8891e87846d",
        "colab": {
          "base_uri": "https://localhost:8080/",
          "height": 34
        }
      },
      "source": [
        "iris_data.shape"
      ],
      "execution_count": 117,
      "outputs": [
        {
          "output_type": "execute_result",
          "data": {
            "text/plain": [
              "(150, 6)"
            ]
          },
          "metadata": {
            "tags": []
          },
          "execution_count": 117
        }
      ]
    },
    {
      "cell_type": "markdown",
      "metadata": {
        "id": "B9MYjpwLr67a",
        "colab_type": "text"
      },
      "source": [
        "**Analyse the type of Variables in DataSet**"
      ]
    },
    {
      "cell_type": "code",
      "metadata": {
        "id": "NL7qE8_Vr_Km",
        "colab_type": "code",
        "outputId": "09b36d6a-acde-429c-c591-20d703fffaff",
        "colab": {
          "base_uri": "https://localhost:8080/",
          "height": 141
        }
      },
      "source": [
        "iris_data.dtypes"
      ],
      "execution_count": 118,
      "outputs": [
        {
          "output_type": "execute_result",
          "data": {
            "text/plain": [
              "sepal length (cm)    float64\n",
              "sepal width (cm)     float64\n",
              "petal length (cm)    float64\n",
              "petal width (cm)     float64\n",
              "target               float64\n",
              "species               object\n",
              "dtype: object"
            ]
          },
          "metadata": {
            "tags": []
          },
          "execution_count": 118
        }
      ]
    },
    {
      "cell_type": "markdown",
      "metadata": {
        "id": "THBC0pXisJ8W",
        "colab_type": "text"
      },
      "source": [
        "**Find the statistics of the Function Using describe** (applicble to numeric data)"
      ]
    },
    {
      "cell_type": "code",
      "metadata": {
        "id": "EynHcv_NsOX6",
        "colab_type": "code",
        "outputId": "8e7a32e3-57ce-415e-b492-7fde06cc7753",
        "colab": {
          "base_uri": "https://localhost:8080/",
          "height": 287
        }
      },
      "source": [
        "iris_data.describe()"
      ],
      "execution_count": 119,
      "outputs": [
        {
          "output_type": "execute_result",
          "data": {
            "text/html": [
              "<div>\n",
              "<style scoped>\n",
              "    .dataframe tbody tr th:only-of-type {\n",
              "        vertical-align: middle;\n",
              "    }\n",
              "\n",
              "    .dataframe tbody tr th {\n",
              "        vertical-align: top;\n",
              "    }\n",
              "\n",
              "    .dataframe thead th {\n",
              "        text-align: right;\n",
              "    }\n",
              "</style>\n",
              "<table border=\"1\" class=\"dataframe\">\n",
              "  <thead>\n",
              "    <tr style=\"text-align: right;\">\n",
              "      <th></th>\n",
              "      <th>sepal length (cm)</th>\n",
              "      <th>sepal width (cm)</th>\n",
              "      <th>petal length (cm)</th>\n",
              "      <th>petal width (cm)</th>\n",
              "      <th>target</th>\n",
              "    </tr>\n",
              "  </thead>\n",
              "  <tbody>\n",
              "    <tr>\n",
              "      <th>count</th>\n",
              "      <td>150.000000</td>\n",
              "      <td>150.000000</td>\n",
              "      <td>150.000000</td>\n",
              "      <td>150.000000</td>\n",
              "      <td>150.000000</td>\n",
              "    </tr>\n",
              "    <tr>\n",
              "      <th>mean</th>\n",
              "      <td>5.843333</td>\n",
              "      <td>3.057333</td>\n",
              "      <td>3.758000</td>\n",
              "      <td>1.199333</td>\n",
              "      <td>1.000000</td>\n",
              "    </tr>\n",
              "    <tr>\n",
              "      <th>std</th>\n",
              "      <td>0.828066</td>\n",
              "      <td>0.435866</td>\n",
              "      <td>1.765298</td>\n",
              "      <td>0.762238</td>\n",
              "      <td>0.819232</td>\n",
              "    </tr>\n",
              "    <tr>\n",
              "      <th>min</th>\n",
              "      <td>4.300000</td>\n",
              "      <td>2.000000</td>\n",
              "      <td>1.000000</td>\n",
              "      <td>0.100000</td>\n",
              "      <td>0.000000</td>\n",
              "    </tr>\n",
              "    <tr>\n",
              "      <th>25%</th>\n",
              "      <td>5.100000</td>\n",
              "      <td>2.800000</td>\n",
              "      <td>1.600000</td>\n",
              "      <td>0.300000</td>\n",
              "      <td>0.000000</td>\n",
              "    </tr>\n",
              "    <tr>\n",
              "      <th>50%</th>\n",
              "      <td>5.800000</td>\n",
              "      <td>3.000000</td>\n",
              "      <td>4.350000</td>\n",
              "      <td>1.300000</td>\n",
              "      <td>1.000000</td>\n",
              "    </tr>\n",
              "    <tr>\n",
              "      <th>75%</th>\n",
              "      <td>6.400000</td>\n",
              "      <td>3.300000</td>\n",
              "      <td>5.100000</td>\n",
              "      <td>1.800000</td>\n",
              "      <td>2.000000</td>\n",
              "    </tr>\n",
              "    <tr>\n",
              "      <th>max</th>\n",
              "      <td>7.900000</td>\n",
              "      <td>4.400000</td>\n",
              "      <td>6.900000</td>\n",
              "      <td>2.500000</td>\n",
              "      <td>2.000000</td>\n",
              "    </tr>\n",
              "  </tbody>\n",
              "</table>\n",
              "</div>"
            ],
            "text/plain": [
              "       sepal length (cm)  sepal width (cm)  ...  petal width (cm)      target\n",
              "count         150.000000        150.000000  ...        150.000000  150.000000\n",
              "mean            5.843333          3.057333  ...          1.199333    1.000000\n",
              "std             0.828066          0.435866  ...          0.762238    0.819232\n",
              "min             4.300000          2.000000  ...          0.100000    0.000000\n",
              "25%             5.100000          2.800000  ...          0.300000    0.000000\n",
              "50%             5.800000          3.000000  ...          1.300000    1.000000\n",
              "75%             6.400000          3.300000  ...          1.800000    2.000000\n",
              "max             7.900000          4.400000  ...          2.500000    2.000000\n",
              "\n",
              "[8 rows x 5 columns]"
            ]
          },
          "metadata": {
            "tags": []
          },
          "execution_count": 119
        }
      ]
    },
    {
      "cell_type": "markdown",
      "metadata": {
        "id": "7_n_dry-sZ6C",
        "colab_type": "text"
      },
      "source": [
        "**Plot a histogram to visualize the dataset**"
      ]
    },
    {
      "cell_type": "code",
      "metadata": {
        "id": "5Zh8q6LksY8W",
        "colab_type": "code",
        "outputId": "6ee197f5-8b22-4de6-d99c-dd688846e364",
        "colab": {
          "base_uri": "https://localhost:8080/",
          "height": 498
        }
      },
      "source": [
        "iris_data.hist(figsize=(12,8))\n",
        "mat.pyplot.show(block=False)"
      ],
      "execution_count": 120,
      "outputs": [
        {
          "output_type": "display_data",
          "data": {
            "image/png": "[encoded data removed]",
            "text/plain": [
              "<Figure size 864x576 with 6 Axes>"
            ]
          },
          "metadata": {
            "tags": [],
            "needs_background": "light"
          }
        }
      ]
    },
    {
      "cell_type": "markdown",
      "metadata": {
        "id": "RtkRnzllsmXA",
        "colab_type": "text"
      },
      "source": [
        "**Visualize using Box plot to find if any outliers exist**"
      ]
    },
    {
      "cell_type": "code",
      "metadata": {
        "id": "1RcoSdK6siz7",
        "colab_type": "code",
        "outputId": "bc6b1a0c-fc5d-4067-cdc5-ad24ce65793d",
        "colab": {
          "base_uri": "https://localhost:8080/",
          "height": 441
        }
      },
      "source": [
        "iris_data.plot(kind = 'box', subplots = True , layout = (4,4) , sharex = False , figsize = ( 20 , 16 ),color ='Yellow')\n",
        "mat.pyplot.show(block=False)"
      ],
      "execution_count": 121,
      "outputs": [
        {
          "output_type": "display_data",
          "data": {
            "image/png": "[encoded data removed]",
            "text/plain": [
              "<Figure size 1440x1152 with 16 Axes>"
            ]
          },
          "metadata": {
            "tags": [],
            "needs_background": "light"
          }
        }
      ]
    },
    {
      "cell_type": "markdown",
      "metadata": {
        "id": "gYSD_pXwszZE",
        "colab_type": "text"
      },
      "source": [
        "**visualize the columns using scatter plot to analyse the realtion ship between each column**"
      ]
    },
    {
      "cell_type": "code",
      "metadata": {
        "id": "QLdPrjm9s1bk",
        "colab_type": "code",
        "outputId": "fdf61a1b-49b3-42b2-de52-aabe646bc605",
        "colab": {
          "base_uri": "https://localhost:8080/",
          "height": 607
        }
      },
      "source": [
        "pd.plotting.scatter_matrix(iris_data, alpha=0.8, figsize=(10, 10))\n",
        "mat.pyplot.show(block=False)"
      ],
      "execution_count": 122,
      "outputs": [
        {
          "output_type": "display_data",
          "data": {
            "image/png": "[encoded data removed]",
            "text/plain": [
              "<Figure size 720x720 with 25 Axes>"
            ]
          },
          "metadata": {
            "tags": [],
            "needs_background": "light"
          }
        }
      ]
    },
    {
      "cell_type": "markdown",
      "metadata": {
        "id": "9JyJ8Ip0tS30",
        "colab_type": "text"
      },
      "source": [
        "**Separate the dataset into the training and test datasets**"
      ]
    },
    {
      "cell_type": "markdown",
      "metadata": {
        "id": "gaNievJ31JWt",
        "colab_type": "text"
      },
      "source": [
        "**Why do we separate the whole data into 2 arrays (we will later split the data into train and score)?\n",
        "Training data Set (X) consist of the independent variables or predictors\n",
        "Desired Output (Y) consist of the dependent variable or that which we are trying to predict**\n",
        "\n"
      ]
    },
    {
      "cell_type": "code",
      "metadata": {
        "id": "_Xm7BTtjtVu4",
        "colab_type": "code",
        "colab": {}
      },
      "source": [
        "# store dataframe iris_data into a numpy array\n",
        "array = iris_data.values\n",
        "# separate array into input and output by slicing\n",
        "# for X(input) [:, 0:4] --> all the rows, columns from 1 - 4 (5 - 1)\n",
        "# these are the independent variables or predictors\n",
        "X = array[:,0:4]\n",
        "# for Y(input) [:, 5] --> all the rows, column 5\n",
        "# this is the value we are trying to predict\n",
        "Y = array[:,5]"
      ],
      "execution_count": 0,
      "outputs": []
    },
    {
      "cell_type": "markdown",
      "metadata": {
        "id": "jPf1DxOito_3",
        "colab_type": "text"
      },
      "source": [
        "**Split the input/output arrays into the training/testing datasets**"
      ]
    },
    {
      "cell_type": "code",
      "metadata": {
        "id": "IDvQuNm_tobP",
        "colab_type": "code",
        "colab": {}
      },
      "source": [
        "# split the dataset --> training sub-dataset: 67%; test sub-dataset: 33%\n",
        "test_size = 0.33\n",
        "#selection of records to include in each data sub-dataset must be done randomly\n",
        "seed = 7\n",
        "#split the dataset (input and output) into training / test datasets\n",
        "X_train, X_test, Y_train, Y_test = train_test_split(X, Y, test_size=test_size,random_state=seed)"
      ],
      "execution_count": 0,
      "outputs": []
    },
    {
      "cell_type": "markdown",
      "metadata": {
        "id": "xXEQeLtet_lG",
        "colab_type": "text"
      },
      "source": [
        "**Build the model**\n",
        "\n",
        "**create a regression model and train the model with the test data and compute the classification report value**\n",
        "\n",
        "\n",
        "The code below build the Model, Train the model using the training sub-dataset, \n",
        "Print out the coefficientsand the intercept,\n",
        "Print intercept and coefficients, \n",
        "if we want to print out the list of coefficients with theircorrespondent variable name, \n",
        "pair the feature names with the coefficients and convert iterator in to set"
      ]
    },
    {
      "cell_type": "code",
      "metadata": {
        "id": "nMs9C0IPt-8g",
        "colab_type": "code",
        "outputId": "64ed7bce-bc4f-4697-964e-105c8f53af76",
        "colab": {
          "base_uri": "https://localhost:8080/",
          "height": 194
        }
      },
      "source": [
        "#build the model\n",
        "model = KNeighborsClassifier()\n",
        "# train the model using the training sub-dataset\n",
        "model.fit(X_train, Y_train)\n",
        "#print the classification report\n",
        "predicted = model.predict(X_test)\n",
        "report = classification_report(Y_test, predicted)\n",
        "print(report)"
      ],
      "execution_count": 126,
      "outputs": [
        {
          "output_type": "stream",
          "text": [
            "              precision    recall  f1-score   support\n",
            "\n",
            "      setosa       1.00      1.00      1.00        14\n",
            "  versicolor       0.85      0.94      0.89        18\n",
            "   virginica       0.94      0.83      0.88        18\n",
            "\n",
            "    accuracy                           0.92        50\n",
            "   macro avg       0.93      0.93      0.93        50\n",
            "weighted avg       0.92      0.92      0.92        50\n",
            "\n"
          ],
          "name": "stdout"
        }
      ]
    },
    {
      "cell_type": "markdown",
      "metadata": {
        "id": "FTZFBP9muw0M",
        "colab_type": "text"
      },
      "source": [
        "#**Accuracy level**"
      ]
    },
    {
      "cell_type": "code",
      "metadata": {
        "id": "IjAhhlwfvOsb",
        "colab_type": "code",
        "outputId": "a513f8ed-4c0c-4488-abe3-218a658546c5",
        "colab": {
          "base_uri": "https://localhost:8080/",
          "height": 34
        }
      },
      "source": [
        "#score the accuracy level\n",
        "result = model.score(X_test, Y_test)\n",
        "#print out the results\n",
        "print((\"Accuracy: %.3f%%\") % (result*100.0))"
      ],
      "execution_count": 0,
      "outputs": [
        {
          "output_type": "stream",
          "text": [
            "Accuracy: 92.000%\n"
          ],
          "name": "stdout"
        }
      ]
    },
    {
      "cell_type": "markdown",
      "metadata": {
        "id": "8DX6NgmQvU5F",
        "colab_type": "text"
      },
      "source": [
        "#**Predict the outcomes**"
      ]
    },
    {
      "cell_type": "code",
      "metadata": {
        "id": "gx8Gdq5ivUCo",
        "colab_type": "code",
        "outputId": "116ce942-e94c-45b6-f65f-a38aadfe6394",
        "colab": {
          "base_uri": "https://localhost:8080/",
          "height": 34
        }
      },
      "source": [
        "model.predict([[5.1,3.5,1.4,0.2]])"
      ],
      "execution_count": 127,
      "outputs": [
        {
          "output_type": "execute_result",
          "data": {
            "text/plain": [
              "array(['setosa'], dtype=object)"
            ]
          },
          "metadata": {
            "tags": []
          },
          "execution_count": 127
        }
      ]
    },
    {
      "cell_type": "markdown",
      "metadata": {
        "id": "R7MvY5zFvv2j",
        "colab_type": "text"
      },
      "source": [
        "#**Analyse the outcomes of the predicted models**"
      ]
    },
    {
      "cell_type": "markdown",
      "metadata": {
        "id": "g0xqV41Ow3qO",
        "colab_type": "text"
      },
      "source": [
        "**In k-fold cross-validation, the original sample is randomly partitioned into k equal sized\n",
        "subsamples. Of the k subsamples, a single subsample is retained as the validation data for\n",
        "testing the model, and the remaining k − 1 subsamples are used as training data. The crossvalidation process is then repeated \n",
        "k times, with each of the k subsamples used exactly once as\n",
        "the validation data. The k results can then be averaged to produce a single estimation. The\n",
        "advantage of this method over repeated random sub-sampling is that all observations are used for\n",
        "both training and validation, and each observation is used for validation exactly once**"
      ]
    },
    {
      "cell_type": "code",
      "metadata": {
        "id": "-BImQqQovsP8",
        "colab_type": "code",
        "colab": {}
      },
      "source": [
        "def analyse_the_accuracy(n_splits):\n",
        "  # evaluate the algorythm\n",
        "  # fix the random seed\n",
        "  # must use the same seed value so that the same subsets can be obtained\n",
        "  # for each time the process is repeated\n",
        "  seed = 7\n",
        "  # split the whole dataset into folds \n",
        "  kfold = KFold(n_splits, random_state=seed,shuffle=True)\n",
        "  # for logistic regression, we can use the accuracy level to evaluate the model / algorithm\n",
        "  scoring = 'accuracy'\n",
        "  return kfold\n",
        "  pass"
      ],
      "execution_count": 0,
      "outputs": []
    },
    {
      "cell_type": "code",
      "metadata": {
        "id": "0AB7Wk-3xGrL",
        "colab_type": "code",
        "colab": {}
      },
      "source": [
        "import warnings\n",
        "warnings.filterwarnings('ignore')"
      ],
      "execution_count": 0,
      "outputs": []
    },
    {
      "cell_type": "markdown",
      "metadata": {
        "id": "Na5j6jJY1rDX",
        "colab_type": "text"
      },
      "source": [
        "**specify the number of time of repeated splitting, Fix the random seed,\n",
        "Must use the same see value sothat the same subset can be obtained for each time the process is repeated,\n",
        "Split the whole data set intofolds, for logistic regression, we can use accuracy level to evaluate the model/algorithm, \n",
        "train the model and run k-fold cross-validation to validate/evaluate the model, Print out the evaluation results**"
      ]
    },
    {
      "cell_type": "code",
      "metadata": {
        "id": "i6ygVpKCxJ8H",
        "colab_type": "code",
        "colab": {}
      },
      "source": [
        "def find_the_accuracy(n_splits):\n",
        "  kfold = analyse_the_accuracy(n_splits)\n",
        "  # train the model and run K-fold cross validation to validate / evaluate the model\n",
        "  results = cross_val_score(KNeighborsClassifier(n_splits), X, Y, cv = kfold, scoring=scoring)\n",
        "  # print the evaluationm results\n",
        "  # result: the average of all the results obtained from the K-fold cross validation\n",
        "  print(\"Accuracy after cross score validation: %.f splits %.3f percent with std (%.3f)\" % (n_splits, results.mean()*100, results.std()))\n",
        "  return results.mean()\n",
        "  pass"
      ],
      "execution_count": 0,
      "outputs": []
    },
    {
      "cell_type": "code",
      "metadata": {
        "id": "wU2CWCsuxglu",
        "colab_type": "code",
        "outputId": "18b1bb38-b2da-4179-900e-3be63a50dc1f",
        "colab": {
          "base_uri": "https://localhost:8080/",
          "height": 158
        }
      },
      "source": [
        "def execute_using_random_k_values():\n",
        "  error_values = list()\n",
        "  k_set = range(2,16,2)\n",
        "  for i in k_set:\n",
        "    error_values.append(1-find_the_accuracy(i))\n",
        "  return k_set[error_values.index(min(error_values))]\n",
        "  pass\n",
        "\n",
        "#execute_using_random_k_values()\n",
        "\n",
        "#predict best value\n",
        "print(f\"Best k value {execute_using_random_k_values()}\")\n"
      ],
      "execution_count": 161,
      "outputs": [
        {
          "output_type": "stream",
          "text": [
            "Accuracy after cross score validation: 2 splits 94.667 percent with std (0.000)\n",
            "Accuracy after cross score validation: 4 splits 95.999 percent with std (0.030)\n",
            "Accuracy after cross score validation: 6 splits 95.333 percent with std (0.043)\n",
            "Accuracy after cross score validation: 8 splits 95.980 percent with std (0.035)\n",
            "Accuracy after cross score validation: 10 splits 97.333 percent with std (0.044)\n",
            "Accuracy after cross score validation: 12 splits 96.688 percent with std (0.050)\n",
            "Accuracy after cross score validation: 14 splits 95.455 percent with std (0.082)\n",
            "Best k value 10\n"
          ],
          "name": "stdout"
        }
      ]
    },
    {
      "cell_type": "markdown",
      "metadata": {
        "id": "cbSWpOQ3zs8g",
        "colab_type": "text"
      },
      "source": [
        "**After running the model with repeated k values starting from 2 to 16 with step count 2\n",
        "The accuracy after cross fold validation is highest for 10 splits which is nearly 97 percentage. \n",
        "The accuracy score before validation is 92 percentage**"
      ]
    }
  ]
}