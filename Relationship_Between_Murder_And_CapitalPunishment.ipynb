{
  "nbformat": 4,
  "nbformat_minor": 0,
  "metadata": {
    "colab": {
      "name": "Relationship_Between_Murder_And_CapitalPunishment.ipynb",
      "provenance": [],
      "authorship_tag": "ABX9TyOmSSaqPKdXSv4xz1QVVd88",
      "include_colab_link": true
    },
    "kernelspec": {
      "name": "python3",
      "display_name": "Python 3"
    }
  },
  "cells": [
    {
      "cell_type": "markdown",
      "metadata": {
        "id": "view-in-github",
        "colab_type": "text"
      },
      "source": [
        "<a href=\"https://colab.research.google.com/github/rajitakolla/pythonCode/blob/master/Relationship_Between_Murder_And_CapitalPunishment.ipynb\" target=\"_parent\"><img src=\"https://colab.research.google.com/assets/colab-badge.svg\" alt=\"Open In Colab\"/></a>"
      ]
    },
    {
      "cell_type": "markdown",
      "metadata": {
        "id": "0_ROVJOgdN9h",
        "colab_type": "text"
      },
      "source": [
        "**Name: Rajita Kolla, Student ID: 11369877**\n",
        "\n",
        "---\n",
        "\n"
      ]
    },
    {
      "cell_type": "markdown",
      "metadata": {
        "id": "CaLCQtDHOmA8",
        "colab_type": "text"
      },
      "source": [
        "**Fetch Crime Rate and canada data sets**"
      ]
    },
    {
      "cell_type": "code",
      "metadata": {
        "id": "0AQAWf4xHxvH",
        "colab_type": "code",
        "colab": {}
      },
      "source": [
        "import matplotlib as mat\n",
        "%matplotlib inline"
      ],
      "execution_count": 0,
      "outputs": []
    },
    {
      "cell_type": "code",
      "metadata": {
        "id": "IDJAz-MbjdYe",
        "colab_type": "code",
        "outputId": "f2e28e4f-8ebf-4da3-9f0c-16f71941d905",
        "colab": {
          "base_uri": "https://localhost:8080/",
          "height": 98
        }
      },
      "source": [
        "import pandas as pd\n",
        "\n",
        "files_df = pd.read_csv('/content/sample_data/crime_rates.csv',skip_blank_lines=True)\n",
        "files_df['duplicate'] = 1\n",
        "#Display List of Columns\n",
        "print(files_df.columns.to_list)\n"
      ],
      "execution_count": 26,
      "outputs": [
        {
          "output_type": "stream",
          "text": [
            "<bound method IndexOpsMixin.tolist of Index(['State', 'Year', 'Population', 'Violent Crime Rate', 'Murder Rate',\n",
            "       'Forcible Rape Rate', 'Robbery Rate', 'Aggraveted Assault Rate',\n",
            "       'Property Crime Rate', 'Burglary Rate', 'Larceny & Theft Rate',\n",
            "       'Motor Vehicle Theft Rate', 'duplicate'],\n",
            "      dtype='object')>\n"
          ],
          "name": "stdout"
        }
      ]
    },
    {
      "cell_type": "markdown",
      "metadata": {
        "id": "vi2Y_EcyWybX",
        "colab_type": "text"
      },
      "source": [
        "**1 THE DATA**"
      ]
    },
    {
      "cell_type": "markdown",
      "metadata": {
        "id": "tciyYA7alcfi",
        "colab_type": "text"
      },
      "source": [
        "The main data source for this project comes from a paper by three researchers, Dezhbakhsh, Rubin, and Shepherd. The dataset contains rates of various violent crimes for every year 1960-2003 (44 years) in every US state. The researchers compiled their data from the FBI’s Uniform Crime Reports. Since crimes are committed by people, not states, we need to account for the number of people in each state when we’re looking at state-level data. Murder rates are calculated as follows:\n",
        "\n",
        "\n",
        "murder rate for state X in year Y = 100000 * (number of murders in state X in year Y / population in state X in year Y) (Murder is rare, so we multiply by 100,000 just to avoid dealing with tiny numbers.)\n",
        "\n",
        "\n",
        "\n",
        "So far, this looks like a dataset that lends itself to an observational study. In fact, these data aren’t even enough to demonstrate an association between the existence of the death penalty in a state in a year and the murder rate in that state and year!\n",
        "\n",
        "---\n",
        "\n"
      ]
    },
    {
      "cell_type": "markdown",
      "metadata": {
        "id": "2kmwuk4NkXFK",
        "colab_type": "text"
      },
      "source": [
        "**1.1What additional information will we need before we can check for that association?**\n",
        "\n",
        "\n",
        "Murder rates vary over time, and diﬀerent states exhibit diﬀerent trends. The rates in some states change dramatically from year to year, while others are quite stable. Let’s plot a couple, just to see the variety.\n",
        "\n"
      ]
    },
    {
      "cell_type": "code",
      "metadata": {
        "id": "O6VphgXSlSax",
        "colab_type": "code",
        "outputId": "91b88364-b312-400f-9b97-831b18400c5a",
        "colab": {
          "base_uri": "https://localhost:8080/",
          "height": 293
        }
      },
      "source": [
        "import datascience as dsc\n",
        "import numpy as np\n",
        "\n",
        "tableData = dsc.Table.from_df(files_df).select(['State','Murder Rate','Year','duplicate'])\n",
        "yearlyCountDF = tableData.group(['State'])\n",
        "print(\"The distinct year counts\")\n",
        "print(yearlyCountDF)\n",
        "print(f\"\\n\\n\\nThe unique counts {np.unique(yearlyCountDF['count'])}\")"
      ],
      "execution_count": 27,
      "outputs": [
        {
          "output_type": "stream",
          "text": [
            "The distinct year counts\n",
            "State       | count\n",
            "Alabama     | 44\n",
            "Alaska      | 44\n",
            "Arizona     | 44\n",
            "Arkansas    | 44\n",
            "California  | 44\n",
            "Colorado    | 44\n",
            "Connecticut | 44\n",
            "Delaware    | 44\n",
            "Florida     | 44\n",
            "Georgia     | 44\n",
            "... (40 rows omitted)\n",
            "\n",
            "\n",
            "\n",
            "The unique counts [44]\n"
          ],
          "name": "stdout"
        }
      ]
    },
    {
      "cell_type": "markdown",
      "metadata": {
        "id": "iBX6Quh_Nv_R",
        "colab_type": "text"
      },
      "source": [
        "**Answer)** The data need to be consistent to predict if we are dealing with the accurate analysis. In the above code we figured out how many years data for each country is being provided. From the analysis we are able to figure out there are 44 years of data which reamined consistent for all states."
      ]
    },
    {
      "cell_type": "markdown",
      "metadata": {
        "id": "TRLXo_AwB5Qb",
        "colab_type": "text"
      },
      "source": [
        "**1.2 Draw a line plot with years on the horizontal axis and murder rates on the vertical axis.**\n",
        "**Include two lines: one for Alaska murder rates and one for Minnesota murder rates. Create this plot using a single call: ak mn.plot(’Year’).**"
      ]
    },
    {
      "cell_type": "code",
      "metadata": {
        "id": "tVJnQvS8CBrp",
        "colab_type": "code",
        "colab": {
          "base_uri": "https://localhost:8080/",
          "height": 333
        },
        "outputId": "b39efd53-7071-42ae-f1da-1d0a4295687a"
      },
      "source": [
        "crimeRatesData = dsc.Table.from_df(files_df).select(['State','Murder Rate','Year'])\n",
        "ak_mn = crimeRatesData.where('State','Alaska').relabeled(1,'Alaska Murder Rate').join('Year',crimeRatesData.where('State','Minnesota').relabeled(1,'Minnesota Murder Rate')).drop('State','State_2')\n",
        "ak_mn.plot('Year',select=None,width=10,overlay=True,height=5)\n"
      ],
      "execution_count": 28,
      "outputs": [
        {
          "output_type": "display_data",
          "data": {
            "image/png": "[encoded data removed]",
            "text/plain": [
              "<Figure size 720x360 with 1 Axes>"
            ]
          },
          "metadata": {
            "tags": [],
            "needs_background": "light"
          }
        }
      ]
    },
    {
      "cell_type": "markdown",
      "metadata": {
        "id": "0acI7OqiPiKb",
        "colab_type": "text"
      },
      "source": [
        "**1.3 Implement the function most murderous, which takes a year (an integer) as its argument. It does two things:**\n",
        "\n",
        "**1) It draws a horizontal bar chart of the 5 states that had the highest murder rate in that year.**\n",
        "\n",
        "**2) It returns an array of the names of these states in order of increasing murder rate.**"
      ]
    },
    {
      "cell_type": "code",
      "metadata": {
        "id": "GbAe5k-oPtj5",
        "colab_type": "code",
        "colab": {
          "base_uri": "https://localhost:8080/",
          "height": 421
        },
        "outputId": "c60cd8d2-40fd-433f-c388-ace518b2cd7a"
      },
      "source": [
        "def mostMurderous(year):\n",
        "  if(int(year)>999 and int(year) < 10000):\n",
        "    murderDataDF = dsc.Table.from_df(files_df).select(['Year','State','Murder Rate']).where('Year',int(year)).drop(['Year']).sort('Murder Rate',descending=True).take[0:5]\n",
        "    mat.pyplot.title('STATE WITH MURDER RATES',fontsize=20)\n",
        "    mat.pyplot.ylabel('States',fontsize=17)\n",
        "    mat.pyplot.xlabel('Murder Rates',fontsize=17)\n",
        "    mat.pyplot.barh(murderDataDF['State'],murderDataDF['Murder Rate'],align='center',color='Pink',height=0.8)\n",
        "    print(murderDataDF)\n",
        "  pass\n",
        "\n",
        "\n",
        "mostMurderous(input(\"Enter the year:\"))"
      ],
      "execution_count": 51,
      "outputs": [
        {
          "output_type": "stream",
          "text": [
            "Enter the year:1965\n",
            "State          | Murder Rate\n",
            "Alabama        | 11.4\n",
            "Georgia        | 11.3\n",
            "South Carolina | 9.6\n",
            "Mississippi    | 8.9\n",
            "Florida        | 8.9\n"
          ],
          "name": "stdout"
        },
        {
          "output_type": "display_data",
          "data": {
            "image/png": "[encoded data removed]",
            "text/plain": [
              "<Figure size 432x288 with 1 Axes>"
            ]
          },
          "metadata": {
            "tags": [],
            "needs_background": "light"
          }
        }
      ]
    },
    {
      "cell_type": "markdown",
      "metadata": {
        "id": "-GyR9UHrPIgE",
        "colab_type": "text"
      },
      "source": [
        "**1.4 How many more people were murdered in California in 1988 than in 1975? Assign ca change to the answer.**"
      ]
    },
    {
      "cell_type": "markdown",
      "metadata": {
        "id": "LyMyEQ4QTRLf",
        "colab_type": "text"
      },
      "source": [
        "**Answer** murder rate for state X in year Y = 100000 * (number of murders in state X in year Y / population in state X in year Y) \n",
        "\n",
        "So the number of murders = (murder_rate*population)/100000"
      ]
    },
    {
      "cell_type": "code",
      "metadata": {
        "id": "MDGBnEvQPS7E",
        "colab_type": "code",
        "colab": {
          "base_uri": "https://localhost:8080/",
          "height": 33
        },
        "outputId": "5e122abe-9834-48bf-c784-396cdf56bb90"
      },
      "source": [
        "def fetch_year_data(inputDF, year):\n",
        "  return inputDF.where('Year', year)\n",
        "  pass\n",
        "\n",
        "\n",
        "def computeMurderRates(inputDF):\n",
        "  return int((inputDF['Murder Rate']*inputDF['Population'])/100000);\n",
        "  pass\n",
        "\n",
        "\n",
        "californiaDF = dsc.Table.from_df(files_df).select(['State','Murder Rate','Year','Population']).where('State','California')\n",
        "california_1975_df = fetch_year_data(californiaDF, 1975)\n",
        "california_1988_df = fetch_year_data(californiaDF, 1988)\n",
        "ca_change = computeMurderRates(california_1988_df)-computeMurderRates(california_1975_df)\n",
        "print(f\"Number Of people Murdered : {ca_change}\")\n",
        "\n"
      ],
      "execution_count": 75,
      "outputs": [
        {
          "output_type": "stream",
          "text": [
            "Number Of people Murdered : 726\n"
          ],
          "name": "stdout"
        }
      ]
    },
    {
      "cell_type": "markdown",
      "metadata": {
        "id": "tf_MR8a9Wob6",
        "colab_type": "text"
      },
      "source": [
        "**2 Changes in Murder Rates**\n",
        "\n",
        "Murder rates vary widely across states and years, presumably due to the vast array of diﬀerences among states and across US history. Rather than attempting to analyze rates themselves, here we will restrict our analysis to whether or not murder rates increased or decreased over certain time spans. We will not concern ourselves with how much rates increased or decreased; only the direction of the change - whether they increased or decreased.\n",
        "\n",
        "\n",
        "---\n",
        "\n"
      ]
    },
    {
      "cell_type": "markdown",
      "metadata": {
        "id": "mg2RgHOJXLhv",
        "colab_type": "text"
      },
      "source": [
        "**2.1. Implement the function two year changes that takes an array of murder rates for a state, ordered by increasing year. For all two-year periods (e.g., from 1960 to 1962), it computes and returns the number of increases minus the number of decreases**"
      ]
    },
    {
      "cell_type": "markdown",
      "metadata": {
        "id": "VBx9cezVXUYW",
        "colab_type": "text"
      },
      "source": [
        "We can use two year changes to summarize whether rates are mostly increasing or decreasing over time for some state or group of states. Let’s see how it varies across the 50 US states."
      ]
    },
    {
      "cell_type": "code",
      "metadata": {
        "id": "J94g5meGXawu",
        "colab_type": "code",
        "colab": {
          "base_uri": "https://localhost:8080/",
          "height": 53
        },
        "outputId": "aeaed912-6502-419a-f3db-68969d0b5062"
      },
      "source": [
        "\n",
        "\n",
        "murderRatesDF1 = dsc.Table.from_df(files_df).select(['State','Murder Rate','Year'])\n",
        "states = list(np.unique(murderRatesDF1['State']))\n",
        "\n",
        "def removeSublist(lst): \n",
        "    result = [] \n",
        "    for elements in lst:\n",
        "      result.append(elements[0])      \n",
        "    return result \n",
        "    pass\n",
        "\n",
        "\n",
        "def two_year_changes(murderRates_State):\n",
        "  return [murderRates_State[i+2]-murderRates_State[i] for i in range(0,len(murderRates_State)-2)]\n",
        "  pass\n",
        "\n",
        "def generate_difference(result_list):\n",
        "  return len([i for i in result_list if i >0]) - len([i for i in result_list if i < 0])\n",
        "  pass\n",
        "\n",
        "difference = []\n",
        "two_year_change_values = []\n",
        "for state in states:\n",
        "  #murderRatesDF1.where('State',state).sort('Year').show()\n",
        "  murderRates_State = murderRatesDF1.where('State',state).sort('Year').select(['Murder Rate']).to_df().values.tolist()\n",
        "  murderRates_State = removeSublist(murderRates_State)\n",
        "  murderRates_rate = two_year_changes(murderRates_State)\n",
        "  # for problem 2.4\n",
        "  two_year_change_values.append(len(murderRates_rate))\n",
        "  difference.append(generate_difference(murderRates_rate))\n",
        "  \n",
        "\n",
        "print(dict(zip(states,difference)))\n",
        "  \n",
        "\n",
        "\n"
      ],
      "execution_count": 214,
      "outputs": [
        {
          "output_type": "stream",
          "text": [
            "{'Alabama': -6, 'Alaska': -5, 'Arizona': 1, 'Arkansas': -1, 'California': 17, 'Colorado': -4, 'Connecticut': 4, 'Delaware': -3, 'Florida': -6, 'Georgia': -3, 'Hawaii': -2, 'Idaho': -3, 'Illinois': 8, 'Indiana': 5, 'Iowa': 4, 'Kansas': 5, 'Kentucky': -6, 'Louisiana': 8, 'Maine': 5, 'Maryland': 9, 'Massachuse': 2, 'Michigan': -4, 'Minnesota': 6, 'Mississippi': -2, 'Missouri': 0, 'Montana': 0, 'Nebraska': 5, 'Nevada': 5, 'New Hampshire': -3, 'New Jersey': 10, 'New Mexico': -1, 'New York': 3, 'North Carolina': -10, 'North Dakota': 1, 'Ohio': 3, 'Oklahoma': 1, 'Oregon': -1, 'Pennsylvania': 5, 'Rhode Isla': 6, 'South Carolina': -11, 'South Dakota': -3, 'Tennessee': -2, 'Texas': 2, 'Utah': 5, 'Vermont': -1, 'Virginia': -8, 'Washington': 6, 'West Virginia': 3, 'Wisconsin': 1, 'Wyoming': 0}\n"
          ],
          "name": "stdout"
        }
      ]
    },
    {
      "cell_type": "markdown",
      "metadata": {
        "id": "bt19TciWsRcq",
        "colab_type": "text"
      },
      "source": [
        "**2.2 Assign changes by state to a table with one row per state that has two columns: the State name and the Murder Rate two year changes statistic computed across all years in our data set for that state.**"
      ]
    },
    {
      "cell_type": "code",
      "metadata": {
        "id": "8FEUBjkTsZZl",
        "colab_type": "code",
        "colab": {
          "base_uri": "https://localhost:8080/",
          "height": 212
        },
        "outputId": "b5441372-ab80-440a-db8f-971371574c8f"
      },
      "source": [
        "# create a table \n",
        "tables_Murder_df = dsc.Table().with_columns('State Name',states,'Murder Rate two year changes',difference)\n",
        "print(tables_Murder_df)"
      ],
      "execution_count": 160,
      "outputs": [
        {
          "output_type": "stream",
          "text": [
            "State Name  | Murder Rate two year changes\n",
            "Alabama     | -6\n",
            "Alaska      | -5\n",
            "Arizona     | 1\n",
            "Arkansas    | -1\n",
            "California  | 17\n",
            "Colorado    | -4\n",
            "Connecticut | 4\n",
            "Delaware    | -3\n",
            "Florida     | -6\n",
            "Georgia     | -3\n",
            "... (40 rows omitted)\n"
          ],
          "name": "stdout"
        }
      ]
    },
    {
      "cell_type": "code",
      "metadata": {
        "id": "0VGJ51YV2JgY",
        "colab_type": "code",
        "colab": {
          "base_uri": "https://localhost:8080/",
          "height": 126
        },
        "outputId": "368d0f91-404d-4abe-8461-9be94050f8bd"
      },
      "source": [
        "#generate a histogram for the above changes\n",
        "\n",
        "tables_Murder_df.hist(\"Murder Rate two year changes\")"
      ],
      "execution_count": 369,
      "outputs": [
        {
          "output_type": "error",
          "ename": "SyntaxError",
          "evalue": "ignored",
          "traceback": [
            "\u001b[0;36m  File \u001b[0;32m\"<ipython-input-370-d002023b4e49>\"\u001b[0;36m, line \u001b[0;32m2\u001b[0m\n\u001b[0;31m    tables_Murder_df.hist(\"Murder Rate two year changes\",%colors='pink')\u001b[0m\n\u001b[0m                                                         ^\u001b[0m\n\u001b[0;31mSyntaxError\u001b[0m\u001b[0;31m:\u001b[0m invalid syntax\n"
          ]
        }
      ]
    },
    {
      "cell_type": "markdown",
      "metadata": {
        "id": "BF68kIiXuWch",
        "colab_type": "text"
      },
      "source": [
        "**2.3 Assign total changes to the total increases minus the total decreases for all two-year periods and all states in our data set.**"
      ]
    },
    {
      "cell_type": "code",
      "metadata": {
        "id": "fS6e4NJZxMxJ",
        "colab_type": "code",
        "colab": {
          "base_uri": "https://localhost:8080/",
          "height": 33
        },
        "outputId": "73b0de29-baa2-42f1-c5a8-bfb9923442c2"
      },
      "source": [
        "total_changes = len([i for i in tables_Murder_df['Murder Rate two year changes'] if i > 0]) - len([i for i in tables_Murder_df['Murder Rate two year changes'] if i < 0])\n",
        "print(f\"Total changes: {total_changes}\")"
      ],
      "execution_count": 154,
      "outputs": [
        {
          "output_type": "stream",
          "text": [
            "Total changes: 5\n"
          ],
          "name": "stdout"
        }
      ]
    },
    {
      "cell_type": "markdown",
      "metadata": {
        "id": "qDknftJXybpZ",
        "colab_type": "text"
      },
      "source": [
        "**2.4 Set num changes to the number of diﬀerent two-year periods in the entire data set that could result in a change of a state’s murder rate. Include both those periods where a change occurred and the periods where a state’s rate happened to stay the same.**"
      ]
    },
    {
      "cell_type": "markdown",
      "metadata": {
        "id": "ThaoWSRo1ZQE",
        "colab_type": "text"
      },
      "source": [
        "We now have enough information to perform a hypothesis test. \n",
        "\n",
        "**Null Hypothesis:** State murder rates increase and decrease over two-year periods as if “increase” or “decrease” were sampled at random from a uniform distribution, like a fair coin ﬂip.\n",
        "\n",
        "\n",
        "Since it’s possible that murder rates are more likely to go up or more likely to go down, our alternative hypothesis should contemplate either case: \n",
        "\n",
        "\n",
        "**Alternative Hypothesis:** State murder rates are either more likely or less likely to increase than decrease over two-year periods.\n",
        "\n",
        "\n",
        "**Technical note:** These changes in murder rates are not random samples from any population. They describe all murders in all states over all recent years. However, we can imagine that history could have been diﬀerent, and that the observed changes are the values observed in only one possible world: the one that happened to occur. In this sense, we can evaluate whether the observed “total increases minus total decreases” is consistent with a hypothesis that increases and decreases are drawn at random from a uniform distribution.\n"
      ]
    },
    {
      "cell_type": "code",
      "metadata": {
        "id": "wDb2c4XPyleK",
        "colab_type": "code",
        "colab": {
          "base_uri": "https://localhost:8080/",
          "height": 66
        },
        "outputId": "e0c037fe-0fb1-4287-ccef-cd64107471c9"
      },
      "source": [
        "print(sum(two_year_change_values))\n",
        "print(set(two_year_change_values))\n",
        "num_changes = sum(tables_Murder_df['Murder Rate two year changes'])\n",
        "print(f\"num_changes {num_changes}\")\n",
        "\n"
      ],
      "execution_count": 195,
      "outputs": [
        {
          "output_type": "stream",
          "text": [
            "2100\n",
            "{42}\n",
            "num_changes 45\n"
          ],
          "name": "stdout"
        }
      ]
    },
    {
      "cell_type": "markdown",
      "metadata": {
        "id": "LKV_3qmP7dmk",
        "colab_type": "text"
      },
      "source": [
        "**Answer)** The total change in values remains same across all the states."
      ]
    },
    {
      "cell_type": "markdown",
      "metadata": {
        "id": "0trA4O1KMLGb",
        "colab_type": "text"
      },
      "source": [
        "**2.5  Given these null and alternative hypotheses, deﬁne a good test statistic.**"
      ]
    },
    {
      "cell_type": "markdown",
      "metadata": {
        "id": "xTLx2g1_MS9X",
        "colab_type": "text"
      },
      "source": [
        "Important requirements for your test statistic: Choose a test statistic for which large positive values are evidence in favor of the alternative hypothesis, and other values are evidence in favor of the null hypothesis. Your test statistic should depend only on whether murder rates increased or decreased, not on the size of any change.\n"
      ]
    },
    {
      "cell_type": "markdown",
      "metadata": {
        "id": "9Ut2KIW2Nc4l",
        "colab_type": "text"
      },
      "source": [
        "**Answer)** With the given Null and Alternative test statistic we can infer that the samples increase and decrease at random for a distribution. Obtain randlomy simulated values for different subsets.Central tendancy is near to the statistic value\n",
        "\n",
        "**TEST STATISTIC** Differences between the number of increases and number of decreases"
      ]
    },
    {
      "cell_type": "markdown",
      "metadata": {
        "id": "Rf5CTOaFOD_Y",
        "colab_type": "text"
      },
      "source": [
        "**2.6 Complete the simulation below, which samples num changes increases/decreases at random many times and forms an empirical distribution of your test statistic under the null hypothesis. Your job is to**\n",
        "*   **ﬁll in the function simulate under null, which simulates a single sample under the null hypothesis, and**\n",
        "*   **ﬁll in its argument when it’s called below**\n",
        "\n"
      ]
    },
    {
      "cell_type": "code",
      "metadata": {
        "id": "cZFKOWLbuj7q",
        "colab_type": "code",
        "colab": {
          "base_uri": "https://localhost:8080/",
          "height": 283
        },
        "outputId": "23dc2dc4-49d9-4e13-a39e-b24a78569023"
      },
      "source": [
        "crimes_data = dsc.Table.from_df(files_df).select(['State','Murder Rate','Year'])\n",
        "def simulate_under_null(num_chances_to_change):\n",
        "    year_gap = 2\n",
        "    teststatistic = []\n",
        "    for i in np.arange(500):\n",
        "        Results = []\n",
        "        if year_gap >= 40:\n",
        "            year_gap = 2\n",
        "        sample_table = crimes_data.sample(2000)\n",
        "        for state in states:\n",
        "            crime_state = crimes_data.where('State', dsc.are.equal_to(state)).drop('State', 'Population').sort('Year')\n",
        "            result_list = np.array(crime_state['Murder Rate'])[2:] - np.array(crime_state['Murder Rate'])[:-2]\n",
        "            Results.append(np.count_nonzero(result_list[:len(result_list)-year_gap] > 0) - np.count_nonzero(result_list[:len(result_list)-year_gap] < 0))\n",
        "        year_gap = year_gap + 2\n",
        "        final_result = dsc.Table().with_columns('State', states,\n",
        "                                             'Murder Rate two_year_changes', Results)\n",
        "        teststatistic.append(np.count_nonzero(final_result['Murder Rate two_year_changes'] > 0) - np.count_nonzero(final_result['Murder Rate two_year_changes'] < 0))\n",
        "    return teststatistic\n",
        "dsc.Table().with_column('Test statistic under null', simulate_under_null(500)).hist(0, bins=np.arange(-10, 100, 5))\n"
      ],
      "execution_count": 255,
      "outputs": [
        {
          "output_type": "display_data",
          "data": {
            "image/png": "[encoded data removed]",
            "text/plain": [
              "<Figure size 432x288 with 1 Axes>"
            ]
          },
          "metadata": {
            "tags": [],
            "needs_background": "light"
          }
        }
      ]
    },
    {
      "cell_type": "code",
      "metadata": {
        "id": "F0pUCepcOj3o",
        "colab_type": "code",
        "colab": {}
      },
      "source": [
        "import random \n",
        "\n",
        "teststatistic = []\n",
        "randomGenerator = 50\n",
        "\n",
        "\n",
        "statdataset = dsc.Table().from_df(files_df).select(['State', 'Year', 'Murder Rate'])\n",
        "murderRatesDF1 = dsc.Table.from_df(files_df).select(['State','Murder Rate','Year'])\n",
        "\n",
        "\n",
        "def fetch_each_year_data():\n",
        "  year_gap = 2\n",
        "  list_of_values = list()\n",
        "  for state in states:\n",
        "      #murderRatesDF1.where('State',state).sort('Year').show()\n",
        "      murderRates_State = murderRatesDF1.where('State',state).sort('Year').select(['Murder Rate'])\n",
        "      diff_array = np.array(murderRates_State['Murder Rate'])[2:] - np.array(murderRates_State['Murder Rate'])[:-2]\n",
        "      list_of_values.append(np.count_nonzero(diff_array[:len(diff_array)-year_gap] > 0) - np.count_nonzero(diff_array[:len(diff_array)-year_gap] < 0))\n",
        "\n",
        "  return list_of_values\n",
        "  pass\n",
        "\n",
        "def simulate_under_null(num_chances_to_change):\n",
        "  \"\"\"Simulates some number chaging several times, with an equal chance to increase or decrease. \n",
        "      Returns the value of your test statistic for these simulated changes\n",
        "\n",
        "\n",
        "  num_chances_to_change is the number of times the number changes\n",
        "  \"\"\"\n",
        "  year_gap = 2\n",
        "  #Step count will be incremented by 2 \n",
        "  for i in np.arange(num_chances_to_change):\n",
        "    if year_gap >= randomGenerator:\n",
        "      year_gap = 2\n",
        "    sample_set = statdataset.sample(random.randint(100,5000))\n",
        "    year_gap = year_gap+2\n",
        "    new_dataset = dsc.Table().with_column('States',states,'Murder Rate two_year_changes',fetch_each_year_data())\n",
        "    teststatistic.append(np.count_nonzero(new_dataset['Murder Rate two_year_changes'] > 0) - np.count_nonzero(new_dataset['Murder Rate two_year_changes'] < 0))\n",
        "  return teststatistic\n",
        "  pass\n",
        "\n",
        "\n",
        "year_gap = 2 # as the increae or decrease is measured with step count 2\n",
        "uniform_samples =dsc.util.make_array()\n",
        "for i in np.arange(5):\n",
        "  uniform_samples = np.append(uniform_samples, simulate_under_null(i))\n",
        "\n",
        "#dsc.Table().with_column('Test statistic under null', uniform_samples).hist(0,bins=np.arange(-10,100,10))\n"
      ],
      "execution_count": 0,
      "outputs": []
    },
    {
      "cell_type": "markdown",
      "metadata": {
        "id": "YRKwa_KZwSs6",
        "colab_type": "text"
      },
      "source": [
        "**2.7. Looking at this histogram, draw a conclusion about whether murder rates basically increase as often as they decrease.**\n"
      ]
    },
    {
      "cell_type": "markdown",
      "metadata": {
        "id": "8b9mzyuowmuc",
        "colab_type": "text"
      },
      "source": [
        "**Answer)**  From the histogram we can predict that the data is likely to be increasing"
      ]
    },
    {
      "cell_type": "markdown",
      "metadata": {
        "id": "OUWECtggwyT4",
        "colab_type": "text"
      },
      "source": [
        "**3 - The death penalty**"
      ]
    },
    {
      "cell_type": "markdown",
      "metadata": {
        "id": "239kLW4Gw4u9",
        "colab_type": "text"
      },
      "source": [
        "Some US states have the death penalty, and others don’t, and laws have changed over time. In addition to changes in murder rates, we will also consider whether the death penalty was in force in each state and each year. Using this information, we would like to investigate how the death penalty aﬀects the murder rate of a state.\n"
      ]
    },
    {
      "cell_type": "markdown",
      "metadata": {
        "id": "fnhy9raxxQMr",
        "colab_type": "text"
      },
      "source": [
        "**3.1.** **Describe this investigation in terms of an experiment. What population are we studying? What is the control group? What is the treatment group? What outcome are we measuring?**\n"
      ]
    },
    {
      "cell_type": "markdown",
      "metadata": {
        "id": "F0JYBjaRyETj",
        "colab_type": "text"
      },
      "source": [
        "**Answer)** \n",
        "\n",
        "Poulation : The population of all the members in united states.\n",
        "\n",
        "\n",
        "Control Group : List of states where death penality is not been implemented but there is a murder rate.\n",
        "\n",
        "Treatment Group: List of states where death penality was implemented\n",
        "\n",
        "\n",
        "Measuring outcome : We are intended to predict if there is any change in the murder rate where death penality exists and not exixts. That is a increase or decrease in the murder rates"
      ]
    },
    {
      "cell_type": "markdown",
      "metadata": {
        "id": "bI44f9EYzI5L",
        "colab_type": "text"
      },
      "source": [
        "**3.2 We want to know whether the death penalty causes a change in the murder rate. Why is it not suﬃcient to compare murder rates in places and times when the death penalty was in force with places and times when it wasn’t?**"
      ]
    },
    {
      "cell_type": "markdown",
      "metadata": {
        "id": "1qo8dk35zQ6g",
        "colab_type": "text"
      },
      "source": [
        "**Answer)**\n",
        "\n",
        "In our analysis Death rate alone cant be the deciding factor predict the increase in the murder rates. The murder rate can be controlled by effective implementation of rules, eradicating crime, reducing the poverty lines etc. "
      ]
    },
    {
      "cell_type": "code",
      "metadata": {
        "id": "ojIENI7j2yr2",
        "colab_type": "code",
        "colab": {
          "base_uri": "https://localhost:8080/",
          "height": 362
        },
        "outputId": "05268a20-08f1-4082-a81c-cc5a84eaf94d"
      },
      "source": [
        "listOfStates = dsc.make_array('Alaska', 'Hawaii', 'Maine', 'Michigan', 'Wisconsin', 'Minnesota')\n",
        "crimes_data = dsc.Table.from_df(files_df).select(['State','Murder Rate','Year'])\n",
        "def evaluate_existance(stateName):\n",
        "    return stateName not in listOfStates\n",
        "\n",
        "states_values = crimes_data.group('State').select('State')\n",
        "death_penalty = states_values.with_column('Death Penalty', states_values.apply(evaluate_existance, 0))\n",
        "death_penalty"
      ],
      "execution_count": 259,
      "outputs": [
        {
          "output_type": "execute_result",
          "data": {
            "text/html": [
              "<table border=\"1\" class=\"dataframe\">\n",
              "    <thead>\n",
              "        <tr>\n",
              "            <th>State</th> <th>Death Penalty</th>\n",
              "        </tr>\n",
              "    </thead>\n",
              "    <tbody>\n",
              "        <tr>\n",
              "            <td>Alabama    </td> <td>True         </td>\n",
              "        </tr>\n",
              "        <tr>\n",
              "            <td>Alaska     </td> <td>False        </td>\n",
              "        </tr>\n",
              "        <tr>\n",
              "            <td>Arizona    </td> <td>True         </td>\n",
              "        </tr>\n",
              "        <tr>\n",
              "            <td>Arkansas   </td> <td>True         </td>\n",
              "        </tr>\n",
              "        <tr>\n",
              "            <td>California </td> <td>True         </td>\n",
              "        </tr>\n",
              "        <tr>\n",
              "            <td>Colorado   </td> <td>True         </td>\n",
              "        </tr>\n",
              "        <tr>\n",
              "            <td>Connecticut</td> <td>True         </td>\n",
              "        </tr>\n",
              "        <tr>\n",
              "            <td>Delaware   </td> <td>True         </td>\n",
              "        </tr>\n",
              "        <tr>\n",
              "            <td>Florida    </td> <td>True         </td>\n",
              "        </tr>\n",
              "        <tr>\n",
              "            <td>Georgia    </td> <td>True         </td>\n",
              "        </tr>\n",
              "    </tbody>\n",
              "</table>\n",
              "<p>... (40 rows omitted)</p>"
            ],
            "text/plain": [
              "State       | Death Penalty\n",
              "Alabama     | True\n",
              "Alaska      | False\n",
              "Arizona     | True\n",
              "Arkansas    | True\n",
              "California  | True\n",
              "Colorado    | True\n",
              "Connecticut | True\n",
              "Delaware    | True\n",
              "Florida     | True\n",
              "Georgia     | True\n",
              "... (40 rows omitted)"
            ]
          },
          "metadata": {
            "tags": []
          },
          "execution_count": 259
        }
      ]
    },
    {
      "cell_type": "markdown",
      "metadata": {
        "id": "T3aEt5iPzwJ3",
        "colab_type": "text"
      },
      "source": [
        "**A Natural Experiment**\n",
        "In order to attempt to investigate the causal relationship between the death penalty and murder rates, we’re going to take advantage of a natural experiment. A natural experiment happens when something other than experimental design applies a treatment to one group and not to another (control) group, and we can reasonably expect that the treatment and control groups don’t have any other systematic diﬀerences.\n",
        "\n",
        "\n",
        "Our natural experiment is this: in 1972, a Supreme Court decision called Furman v. Georgia banned the death penalty throughout the US. Suddenly, many states went from having the death penalty to not having the death penalty. \n",
        "\n",
        "\n",
        "As a ﬁrst step, let’s see how murder rates changed before and after the court decision. We’ll deﬁne the test as follows: \n",
        "\n",
        "• **Population:** All the states that had the death penalty before the 1972 abolition. (There is no control group for the states that already lacked the death penalty in 1972, so we must omit them.) This includes all US states except Alaska, Hawaii, Maine, Michigan, Wisconsin, and Minnesota.\n",
        "\n",
        "• **Treatment group:** The states in that population, in the year after 1972. \n",
        "\n",
        "• **Control group:** The states in that population, in the year before 1972. \n",
        "\n",
        "• **Null hypothesis:** Each state’s murder rate was equally likely to be higher or lower in the treatment period than in the control period. (Whether the murder rate increased or decreased in each state was like the ﬂip of a fair coin.) \n",
        "\n",
        "• **Alternative hypothesis:** The murder rate was more likely to increase or more likely to decrease. \n",
        "\n",
        "\n",
        "\n",
        "**Technical Note:** It’s not clear that the murder rates were a ”sample” from any larger population. Again, it’s useful to imagine that our data could have come out diﬀerently and to test the null hypothesis that the murder rates were equally likely to move up or down.\n",
        "\n"
      ]
    },
    {
      "cell_type": "markdown",
      "metadata": {
        "id": "CRV0U1nc0RbE",
        "colab_type": "text"
      },
      "source": [
        "**3.3 Assign death penalty murder rates to a table with the same columns and data as murder rates, but that has only the rows for states that had the death penalty in 1971.**"
      ]
    },
    {
      "cell_type": "markdown",
      "metadata": {
        "id": "yopfg6Oh0f_h",
        "colab_type": "text"
      },
      "source": [
        "The null hypothesis doesn’t specify how the murder rate changes; it only talks about increasing or decreasing. So, we will use the same test statistic you deﬁned in section 2.\n"
      ]
    },
    {
      "cell_type": "code",
      "metadata": {
        "id": "D11jBgN53p3h",
        "colab_type": "code",
        "colab": {
          "base_uri": "https://localhost:8080/",
          "height": 407
        },
        "outputId": "a004e176-f78b-417e-ddf6-a1d355aa5fe3"
      },
      "source": [
        "crime_rates_data = crimes_data.where('Year',1971)\n",
        "murder_rates_in_1971 = crime_rates_data.where('State', dsc.are.not_equal_to('Alaska')).where('State', dsc.are.not_equal_to('Minnesota')).where('State', dsc.are.not_equal_to('Wisconsin')).where('State', dsc.are.not_equal_to('Michigan')).where('State', dsc.are.not_equal_to('Maine')).where('State', dsc.are.not_equal_to('Hawaii'))\n",
        "print(murder_rates_in_1971)\n",
        "\n",
        "total_data_set = crimes_data.where('State', dsc.are.not_equal_to('Alaska')).where('State', dsc.are.not_equal_to('Minnesota')).where('State', dsc.are.not_equal_to('Wisconsin')).where('State', dsc.are.not_equal_to('Michigan')).where('State', dsc.are.not_equal_to('Maine')).where('State', dsc.are.not_equal_to('Hawaii'))\n",
        "print(total_data_set)"
      ],
      "execution_count": 273,
      "outputs": [
        {
          "output_type": "stream",
          "text": [
            "State       | Murder Rate | Year\n",
            "Alabama     | 15.1        | 1971\n",
            "Arkansas    | 10.5        | 1971\n",
            "Arizona     | 6.7         | 1971\n",
            "California  | 8.1         | 1971\n",
            "Colorado    | 6.5         | 1971\n",
            "Connecticut | 3.1         | 1971\n",
            "Delaware    | 6.1         | 1971\n",
            "Florida     | 13.3        | 1971\n",
            "Georgia     | 16          | 1971\n",
            "Iowa        | 1.8         | 1971\n",
            "... (34 rows omitted)\n",
            "State   | Murder Rate | Year\n",
            "Alabama | 12.4        | 1960\n",
            "Alabama | 12.9        | 1961\n",
            "Alabama | 9.4         | 1962\n",
            "Alabama | 10.2        | 1963\n",
            "Alabama | 9.3         | 1964\n",
            "Alabama | 11.4        | 1965\n",
            "Alabama | 10.9        | 1966\n",
            "Alabama | 11.7        | 1967\n",
            "Alabama | 11.8        | 1968\n",
            "Alabama | 13.7        | 1969\n",
            "... (1926 rows omitted)\n"
          ],
          "name": "stdout"
        }
      ]
    },
    {
      "cell_type": "markdown",
      "metadata": {
        "id": "QeTcblIN6LI_",
        "colab_type": "text"
      },
      "source": [
        "**3.4 Assign changes 72 to the value of the test statistic for the years 1971 to 1973 and the states in death penalty murder rates.**\n"
      ]
    },
    {
      "cell_type": "code",
      "metadata": {
        "id": "k8YhTlLw6TQ1",
        "colab_type": "code",
        "colab": {
          "base_uri": "https://localhost:8080/",
          "height": 33
        },
        "outputId": "20311803-649c-4db8-8921-4384d984c6fe"
      },
      "source": [
        "testresult = list()\n",
        "new_column_name = 'Murder Rate changes_72'\n",
        "List_of_States_having_death_penality = np.unique(total_data_set['State'])\n",
        "def extract_required_values_for_year(dataset,state,year,index):\n",
        "  return dataset.where('State', dsc.are.equal_to(state)).where('Year', year)['Murder Rate'][index]\n",
        "  pass\n",
        "for state in List_of_States_having_death_penality:\n",
        "    values_1973 = extract_required_values_for_year(total_data_set,state,1973,0)\n",
        "    values_1971 = extract_required_values_for_year(total_data_set,state,1971,0)\n",
        "    difference = values_1973 - values_1971\n",
        "    testresult.append(difference)\n",
        "changes_72 = dsc.Table().with_columns('State', List_of_States_having_death_penality,new_column_name, testresult)\n",
        "difference_72  = np.count_nonzero(changes_72[new_column_name] > 0) - np.count_nonzero(changes_72[new_column_name] < 0)\n",
        "print(f'Increases minus decreases from 1971 to 1973: {difference_72}')"
      ],
      "execution_count": 328,
      "outputs": [
        {
          "output_type": "stream",
          "text": [
            "Increases minus decreases from 1971 to 1973: 22\n"
          ],
          "name": "stdout"
        }
      ]
    },
    {
      "cell_type": "markdown",
      "metadata": {
        "id": "wjKn1i_d9bL_",
        "colab_type": "text"
      },
      "source": [
        "**3.5  Draw an empirical histogram of the statistic under the null hypothesis by simulating the test statistic 5,000 times.**"
      ]
    },
    {
      "cell_type": "code",
      "metadata": {
        "id": "T0Aab1NC9hH-",
        "colab_type": "code",
        "colab": {
          "base_uri": "https://localhost:8080/",
          "height": 478
        },
        "outputId": "db89748d-49f6-4e11-9230-a122d3aecf9d"
      },
      "source": [
        "def filter_data_basing_on_year(dataSet, year):\n",
        "  return dataSet.where('Year',year);\n",
        "  pass\n",
        "\n",
        "dataSet_1971_and_1973_df = filter_data_basing_on_year(total_data_set,1971).append(filter_data_basing_on_year(total_data_set,1973))\n",
        "rates_1971DF = list()\n",
        "rates_1973DF = list()\n",
        "for state in List_of_States_having_death_penality:\n",
        "  rates_1971DF.append(extract_required_values_for_year(dataSet_1971_and_1973_df,state,1971,0))\n",
        "  rates_1973DF.append(extract_required_values_for_year(dataSet_1971_and_1973_df,state,1973,0))\n",
        "final_difference = np.array(rates_1973DF)-np.array(rates_1971DF)\n",
        "final_difference_table = dsc.Table().with_columns('State',List_of_States_having_death_penality,'year 1971',rates_1971DF,'year 1973',rates_1973DF,'difference',np.round(final_difference))\n",
        "print(final_difference_table)\n",
        "\n",
        "Total_count = 44\n",
        "\n",
        "def simulate_under_null1(num_chances_to_change):\n",
        "    testStatistic  = list()\n",
        "    year_gap = 2\n",
        "    for i in np.arange(num_chances_to_change):\n",
        "        if year_gap >= Total_count:\n",
        "            year_gap = 2\n",
        "        sample_table = final_difference_table.sample()\n",
        "        array_difference = sample_table['difference']\n",
        "        testStatistic.append(np.count_nonzero(array_difference[:len(array_difference)-year_gap] > 0) - np.count_nonzero(array_difference[:len(array_difference)-year_gap] < 0))\n",
        "    return testStatistic\n",
        "  \n",
        "dsc.Table().with_column('Test statistic under null', simulate_under_null1(5000)).hist(bins=np.arange(-1,30,3))\n",
        "\n",
        "\n"
      ],
      "execution_count": 365,
      "outputs": [
        {
          "output_type": "stream",
          "text": [
            "State       | year 1971 | year 1973 | difference\n",
            "Alabama     | 15.1      | 13.2      | -2\n",
            "Arizona     | 6.7       | 8.1       | 1\n",
            "Arkansas    | 10.5      | 8.8       | -2\n",
            "California  | 8.1       | 9         | 1\n",
            "Colorado    | 6.5       | 7.9       | 1\n",
            "Connecticut | 3.1       | 3.3       | 0\n",
            "Delaware    | 6.1       | 5.9       | -0\n",
            "Florida     | 13.3      | 15.4      | 2\n",
            "Georgia     | 16        | 17.4      | 1\n",
            "Idaho       | 3.3       | 2.6       | -1\n",
            "... (34 rows omitted)\n"
          ],
          "name": "stdout"
        },
        {
          "output_type": "display_data",
          "data": {
            "image/png": "[encoded data removed]",
            "text/plain": [
              "<Figure size 432x288 with 1 Axes>"
            ]
          },
          "metadata": {
            "tags": [],
            "needs_background": "light"
          }
        }
      ]
    },
    {
      "cell_type": "markdown",
      "metadata": {
        "id": "sppW7m3WC6jV",
        "colab_type": "text"
      },
      "source": [
        "**3.6. Complete the analysis as follows:**\n",
        "\n",
        "\n",
        "\n",
        "1.   **Compute a P-value.**\n",
        "2.   **Draw a conclusion about the null and alternative hypotheses**\n",
        "3.   **Describe your ﬁndings using simple, non-technical language. Be careful not to claim that the statistical analysis has established more than it really has.**\n",
        "\n",
        "\n"
      ]
    },
    {
      "cell_type": "code",
      "metadata": {
        "id": "km67hMF6DR2d",
        "colab_type": "code",
        "colab": {
          "base_uri": "https://localhost:8080/",
          "height": 33
        },
        "outputId": "79798196-c4dd-43b8-a3db-5ec119095079"
      },
      "source": [
        "np.count_nonzero(np.array(simulate_under_null1(5000)) >= 22) / 50000"
      ],
      "execution_count": 367,
      "outputs": [
        {
          "output_type": "execute_result",
          "data": {
            "text/plain": [
              "0.01248"
            ]
          },
          "metadata": {
            "tags": []
          },
          "execution_count": 367
        }
      ]
    },
    {
      "cell_type": "markdown",
      "metadata": {
        "id": "dR_iGrltErrd",
        "colab_type": "text"
      },
      "source": [
        "**Answer)**\n",
        "**1) P Value obtained is 0.01248**\n",
        "\n",
        "**2) As the obtained value is less than 0.5 we can accept the alternative hypothesis**\n",
        "\n",
        "**3) The observations clearly predict that the murder rates doesnot depends on death penality but there are several other influencing factors**\n",
        "\n",
        "---\n",
        "\n",
        "\n",
        "\n"
      ]
    },
    {
      "cell_type": "markdown",
      "metadata": {
        "id": "CaQmo0KnGJqD",
        "colab_type": "text"
      },
      "source": [
        "**FURTHER EVIDENCE**"
      ]
    },
    {
      "cell_type": "markdown",
      "metadata": {
        "id": "avqIzV1dGZMX",
        "colab_type": "text"
      },
      "source": [
        "So far, we have discovered evidence that when executions were outlawed, the murder rate increased in many more states than we would expect from random chance. We have also seen that across all states and all recent years, the murder rate goes up about as much as it goes down over two-year periods. These discoveries seem to support the claim that eliminating the death penalty increases the murder rate. Should we be convinced? Let’s conduct some more tests to strengthen our claim. \n",
        "\n",
        "\n",
        "Conducting a test for this data set required the following steps:\n",
        "\n",
        "\n",
        "1. Select a table containing murder rates for certain states and all years,\n",
        "2. Choose two years and compute the observed value of the test statistic,\n",
        "3. Simulate the test statistic under the null hypothesis that increases and decreases are drawn uniformly at random, then\n",
        "4. Compare the observed diﬀerence to the empirical distribution to compute a P-value.\n",
        "\n",
        "This entire process can be expressed in a single function, called run test.\n"
      ]
    },
    {
      "cell_type": "markdown",
      "metadata": {
        "id": "eTQp7iHlGrSE",
        "colab_type": "text"
      },
      "source": [
        "**4.1 Implement run test, which takes the following arguments:**\n",
        "\n",
        "\n",
        "\n",
        "->   **A table of murder rates for certain states, sorted by state and year like murder rates, and**\n",
        "\n",
        "\n",
        "->   **the year when the analysis starts. (The comparison group is two years later.)**\n",
        "\n",
        "It prints out the observed test statistic and returns the P-value for this statistic under the null hypothesis\n",
        "\n"
      ]
    },
    {
      "cell_type": "code",
      "metadata": {
        "id": "Cs0XIVqHGDPK",
        "colab_type": "code",
        "colab": {
          "base_uri": "https://localhost:8080/",
          "height": 105
        },
        "outputId": "08fe099c-82c1-4bf0-9cda-8d12d48d1162"
      },
      "source": [
        "column1 = 'Change'\n",
        "column2 = 'Chance'\n",
        "sample_size = 100\n",
        "uniform = dsc.Table().with_columns(column1, dsc.make_array('Increase', 'Decrease'),column2, dsc.make_array(0.5,0.5))\n",
        "uniform.sample_from_distribution('Chance', sample_size)"
      ],
      "execution_count": 319,
      "outputs": [
        {
          "output_type": "execute_result",
          "data": {
            "text/html": [
              "<table border=\"1\" class=\"dataframe\">\n",
              "    <thead>\n",
              "        <tr>\n",
              "            <th>Change</th> <th>Chance</th> <th>Chance sample</th>\n",
              "        </tr>\n",
              "    </thead>\n",
              "    <tbody>\n",
              "        <tr>\n",
              "            <td>Increase</td> <td>0.5   </td> <td>49           </td>\n",
              "        </tr>\n",
              "        <tr>\n",
              "            <td>Decrease</td> <td>0.5   </td> <td>51           </td>\n",
              "        </tr>\n",
              "    </tbody>\n",
              "</table>"
            ],
            "text/plain": [
              "Change   | Chance | Chance sample\n",
              "Increase | 0.5    | 49\n",
              "Decrease | 0.5    | 51"
            ]
          },
          "metadata": {
            "tags": []
          },
          "execution_count": 319
        }
      ]
    },
    {
      "cell_type": "code",
      "metadata": {
        "id": "WyXZIK1BIQKx",
        "colab_type": "code",
        "colab": {}
      },
      "source": [
        "def simulate_under_null(num_chances_to_change):\n",
        "    return uniform.sample_from_distribution(column2, sample_size).column(2).item(0) - uniform.sample_from_distribution(column2, sample_size).column(2).item(1)\n",
        "    pass\n",
        "\n"
      ],
      "execution_count": 0,
      "outputs": []
    },
    {
      "cell_type": "code",
      "metadata": {
        "id": "sBzzeJD9IzYw",
        "colab_type": "code",
        "colab": {}
      },
      "source": [
        "def compute_observed_statistic(IncAndDec):\n",
        "  return np.count_nonzero(IncAndDec > 0) - np.count_nonzero(IncAndDec < 0) \n",
        "  pass"
      ],
      "execution_count": 0,
      "outputs": []
    },
    {
      "cell_type": "code",
      "metadata": {
        "id": "dG6V3C8nJryM",
        "colab_type": "code",
        "colab": {}
      },
      "source": [
        "def compute_p_value(samples,test_statistic):\n",
        "  num_above_test_stat = np.count_nonzero(samples >= test_statistic)\n",
        "  num_below_test_stat = np.count_nonzero(samples <= test_statistic)\n",
        "  if test_statistic > 0:\n",
        "    p_value = num_above_test_stat/5000\n",
        "  elif test_statistic < 0:\n",
        "    p_value = num_below_test_stat/5000\n",
        "  return p_value\n",
        "  pass"
      ],
      "execution_count": 0,
      "outputs": []
    },
    {
      "cell_type": "code",
      "metadata": {
        "id": "9vSVJcCSIWJC",
        "colab_type": "code",
        "colab": {
          "base_uri": "https://localhost:8080/",
          "height": 66
        },
        "outputId": "d90378e2-9405-4616-8d14-655cf374bfea"
      },
      "source": [
        "def run_test(murder_rates, start_year):\n",
        "    num_states = murder_rates.group('State').num_rows\n",
        "    end_year = start_year + 2\n",
        "    table_years = murder_rates.where('Year', dsc.are.contained_in(dsc.make_array(start_year, end_year)))\n",
        "    IncAndDec = dsc.make_array()\n",
        "\n",
        "    for i in np.arange(num_states):\n",
        "        states = table_years.sort('State', distinct = True).column('State')\n",
        "        state = states.item(i)\n",
        "        difference = np.diff(table_years.where('State', state).column('Murder Rate'))\n",
        "        IncAndDec = np.append(IncAndDec, difference)\n",
        "\n",
        "    observed_test_statistic = compute_observed_statistic(IncAndDec)\n",
        "\n",
        "    samples = dsc.make_array()\n",
        "    for i in np.arange(5000):\n",
        "        samples = np.append(samples, simulate_under_null(num_states))\n",
        "    p_value = compute_p_value(samples,observed_test_statistic)\n",
        "    print(f\"Test statistic {start_year} to {end_year} : {observed_test_statistic}\")\n",
        "    return p_value\n",
        "\n",
        "year = input(\"Enter the year \")\n",
        "run_test(total_data_set, int(year))"
      ],
      "execution_count": 327,
      "outputs": [
        {
          "output_type": "stream",
          "text": [
            "Enter the year1965\n",
            "Test statistic 1965 to 1967 : 34\n"
          ],
          "name": "stdout"
        },
        {
          "output_type": "execute_result",
          "data": {
            "text/plain": [
              "32.2674"
            ]
          },
          "metadata": {
            "tags": []
          },
          "execution_count": 327
        }
      ]
    },
    {
      "cell_type": "markdown",
      "metadata": {
        "id": "lDFqDzW8MVq4",
        "colab_type": "text"
      },
      "source": [
        "**The death penalty reinstated**"
      ]
    },
    {
      "cell_type": "markdown",
      "metadata": {
        "id": "OVswDF_pMYCe",
        "colab_type": "text"
      },
      "source": [
        "In 1976, the Supreme Court repealed its ban on the death penalty in its rulings on a series of cases including Gregg v. Georgia, so the death penalty was reinstated where it was previously banned. This generated a second natural experiment. To the extent that the death penalty deters murder, reinstating it should decrease murder rates, just as banning it should increase them.\n"
      ]
    },
    {
      "cell_type": "markdown",
      "metadata": {
        "id": "pEySQZlOMbTW",
        "colab_type": "text"
      },
      "source": [
        "**4.3 Now we’ve analyzed states where the death penalty went away and came back, as well as states where the death penalty was outlawed all along. What do you conclude from the results of the tests we have conducted so far? Does all the evidence consistently point toward one conclusion, or is there a contradiction?**"
      ]
    },
    {
      "cell_type": "markdown",
      "metadata": {
        "id": "2zKeclaGMygD",
        "colab_type": "text"
      },
      "source": [
        "**Answer)** \n",
        "**When the death penality was started there is a slight decrease in the murder rate but we failed to accept null hypothesis as the p value obtained is less than 0.05**"
      ]
    },
    {
      "cell_type": "markdown",
      "metadata": {
        "id": "QuRacrjrNSGv",
        "colab_type": "text"
      },
      "source": [
        "**VISUALIZATION**"
      ]
    },
    {
      "cell_type": "markdown",
      "metadata": {
        "id": "lJutLY3nNaZZ",
        "colab_type": "text"
      },
      "source": [
        "While our analysis appears to support the conclusion that the death penalty deters murder, a 2006 Stanford Law Review paper argues the opposite: that historical murder rates do not provide evidence that the death penalty deters murderers. To understand their argument, we will draw a picture. In fact, we’ve gone at this whole analysis rather backward; typically we should draw a picture ﬁrst and ask precise statistical questions later! What plot should we draw? \n",
        "\n",
        "\n",
        "\n",
        "We know that we want to compare murder rates of states with and without the death penalty. We know we should focus on the period around the two natural experiments of 1972 and 1976, and we want to understand the evolution of murder rates over time for those groups of states. It might be useful to look at other time periods, so let’s plot them all for good measure.\n"
      ]
    },
    {
      "cell_type": "markdown",
      "metadata": {
        "id": "yD-NzVwuNtAc",
        "colab_type": "text"
      },
      "source": [
        "**5.1 Create a table called average murder rates with 1 row for each year in murder rates. It should have 3 columns:**\n",
        "\n",
        "\n",
        "\n",
        "1.   **Year, the year**\n",
        "2.   **Death penalty states, the average murder rate of the states that had the death penalty in 1971, and**\n",
        "3.   **No death penalty states, the average murder rate of the other states.**\n",
        "\n",
        "**average murder rates should be sorted in increasing order by year.**\n",
        "\n",
        "\n",
        "\n",
        "\n"
      ]
    },
    {
      "cell_type": "code",
      "metadata": {
        "id": "HMTwsJnZQZZc",
        "colab_type": "code",
        "colab": {}
      },
      "source": [
        "def filter_based_on_peanlity(dataset_years_df, value):\n",
        "  return dataset_years_df.where('Death Penalty', value)['Murder Rate'].mean()\n",
        "  pass"
      ],
      "execution_count": 0,
      "outputs": []
    },
    {
      "cell_type": "code",
      "metadata": {
        "id": "uR_vHV6hOEMI",
        "colab_type": "code",
        "colab": {
          "base_uri": "https://localhost:8080/",
          "height": 212
        },
        "outputId": "ca5f8328-331a-4952-b675-a51c03b12f04"
      },
      "source": [
        "columns_dropped = ['State','Population']\n",
        "dealth_peanlityDF = crimes_data.join('State', death_penalty)\n",
        "dealth_peanlity_filtered_DF = dealth_peanlityDF.drop(columns_dropped)\n",
        "listOfyears = np.unique(dealth_peanlity_filtered_DF['Year'])\n",
        "list_of_states_with_penality = list()\n",
        "list_of_states_without_penality = list()\n",
        "for year in listOfyears:\n",
        "    dataset_years_df = dealth_peanlity_filtered_DF.where('Year',year)\n",
        "    list_of_states_with_penality.append(filter_based_on_peanlity(dataset_years_df,True))\n",
        "    list_of_states_without_penality.append(filter_based_on_peanlity(dataset_years_df,False))\n",
        "average_murders_df = dsc.Table().with_columns('Year', listOfyears,'States with Death Penality', np.round(list_of_states_with_penality),'States Without death Penality', np.round(list_of_states_without_penality))\n",
        "print(average_murders_df)"
      ],
      "execution_count": 335,
      "outputs": [
        {
          "output_type": "stream",
          "text": [
            "Year | States with Death Penality | States Without death Penality\n",
            "1960 | 5                          | 4\n",
            "1961 | 5                          | 4\n",
            "1962 | 5                          | 2\n",
            "1963 | 5                          | 3\n",
            "1964 | 5                          | 3\n",
            "1965 | 5                          | 3\n",
            "1966 | 5                          | 5\n",
            "1967 | 6                          | 4\n",
            "1968 | 6                          | 5\n",
            "1969 | 7                          | 5\n",
            "... (34 rows omitted)\n"
          ],
          "name": "stdout"
        }
      ]
    },
    {
      "cell_type": "markdown",
      "metadata": {
        "id": "ggqeRurIRQvb",
        "colab_type": "text"
      },
      "source": [
        "**5.2 Describe in one short sentence a high-level takeaway from the line plot below. Are the murder rates in these two groups of states related? average murder rates.plot(’Year’).**\n"
      ]
    },
    {
      "cell_type": "code",
      "metadata": {
        "id": "OJWXe3QiRfSm",
        "colab_type": "code",
        "colab": {
          "base_uri": "https://localhost:8080/",
          "height": 333
        },
        "outputId": "736182ff-e923-44fd-c56b-c77e833d2610"
      },
      "source": [
        "average_murders_df.plot('Year',select=None,width=10,overlay=True,height=5)\n"
      ],
      "execution_count": 342,
      "outputs": [
        {
          "output_type": "display_data",
          "data": {
            "image/png": "[encoded data removed]",
            "text/plain": [
              "<Figure size 720x360 with 1 Axes>"
            ]
          },
          "metadata": {
            "tags": [],
            "needs_background": "light"
          }
        }
      ]
    },
    {
      "cell_type": "code",
      "metadata": {
        "id": "e-Mivq0LSp6c",
        "colab_type": "code",
        "colab": {
          "base_uri": "https://localhost:8080/",
          "height": 313
        },
        "outputId": "6db0374a-252e-4ef8-bc24-777d139760c0"
      },
      "source": [
        "mat.pyplot.hist(average_murders_df['States with Death Penality'],alpha=0.5,label = 'States with Death Penality')\n",
        "mat.pyplot.hist(average_murders_df['States Without death Penality'],alpha=0.5,label = 'States without Death Penality')"
      ],
      "execution_count": 350,
      "outputs": [
        {
          "output_type": "execute_result",
          "data": {
            "text/plain": [
              "(array([ 1.,  0.,  5.,  0.,  6.,  0., 18.,  0., 12.,  2.]),\n",
              " array([2. , 2.5, 3. , 3.5, 4. , 4.5, 5. , 5.5, 6. , 6.5, 7. ]),\n",
              " <a list of 10 Patch objects>)"
            ]
          },
          "metadata": {
            "tags": []
          },
          "execution_count": 350
        },
        {
          "output_type": "display_data",
          "data": {
            "image/png": "[encoded data removed]",
            "text/plain": [
              "<Figure size 432x288 with 1 Axes>"
            ]
          },
          "metadata": {
            "tags": [],
            "needs_background": "light"
          }
        }
      ]
    },
    {
      "cell_type": "code",
      "metadata": {
        "id": "oq0EOVAyWwsV",
        "colab_type": "code",
        "colab": {
          "base_uri": "https://localhost:8080/",
          "height": 333
        },
        "outputId": "d589bea7-7120-41dd-e405-2153942a8842"
      },
      "source": [
        "murder_rates_with_canada =  pd.read_csv('/content/sample_data/canada.csv',skip_blank_lines=True)\n",
        "murder_rates_with_canada = dsc.Table().from_df(murder_rates_with_canada).select('Year','Homicide').relabeled('Homicide','Canada Data')\n",
        "final_df = average_murders_df.join('Year',murder_rates_with_canada)\n",
        "final_df.plot('Year',select=None,width=10,overlay=True,height=5)"
      ],
      "execution_count": 357,
      "outputs": [
        {
          "output_type": "display_data",
          "data": {
            "image/png": "[encoded data removed]",
            "text/plain": [
              "<Figure size 720x360 with 1 Axes>"
            ]
          },
          "metadata": {
            "tags": [],
            "needs_background": "light"
          }
        }
      ]
    },
    {
      "cell_type": "markdown",
      "metadata": {
        "id": "XzTCPzOqRv4y",
        "colab_type": "text"
      },
      "source": [
        "**Answer) States which have death penality implemented has highest murder rate**"
      ]
    },
    {
      "cell_type": "markdown",
      "metadata": {
        "id": "WEMMlBUITbAb",
        "colab_type": "text"
      },
      "source": [
        "**5.3  Complete their argument in 2-3 sentences; what features of these plots indicate that the death penalty is not an important factor in determining the murder rate? (If you’re stuck, read the paper.)**"
      ]
    },
    {
      "cell_type": "markdown",
      "metadata": {
        "id": "DHg8UslETiiV",
        "colab_type": "text"
      },
      "source": [
        "**Answer)** **Death Penality is not oly the critical factor to influence the murder rates. In the above graph the states which have implemented death penalities have higher murder rates**"
      ]
    },
    {
      "cell_type": "markdown",
      "metadata": {
        "id": "gdtNSUBSVXVP",
        "colab_type": "text"
      },
      "source": [
        "**5.5 What assumption(s) did we make in Parts 1 through 4 of the project that led us to believe that the death penalty deterred murder, when in fact the line plots tell a diﬀerent story?**"
      ]
    },
    {
      "cell_type": "markdown",
      "metadata": {
        "id": "_cH5DGJ2Vb6s",
        "colab_type": "text"
      },
      "source": [
        "**Answer) Our assumption is that the death penality helps reduces the murder rate but it was contradicted. From our analysis we can infer that death penality not the influencing factor to decide the murder rate**"
      ]
    },
    {
      "cell_type": "markdown",
      "metadata": {
        "id": "0chfq4wSVRq2",
        "colab_type": "text"
      },
      "source": [
        ""
      ]
    }
  ]
}